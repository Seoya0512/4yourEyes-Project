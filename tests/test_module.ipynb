{
  "cells": [
    {
      "cell_type": "markdown",
      "metadata": {
        "id": "kvcX4o-NskQe"
      },
      "source": [
        "### 네이버 클라우드 사용 Test\n",
        " 참고사이트 : https://dev-sngwn.github.io/2019-12-17-korean-ocr-step-by-step-2/"
      ]
    },
    {
      "cell_type": "markdown",
      "metadata": {
        "id": "1wZWZ0dySAyG"
      },
      "source": [
        "CSR"
      ]
    },
    {
      "cell_type": "code",
      "execution_count": 1,
      "metadata": {
        "colab": {
          "base_uri": "https://localhost:8080/"
        },
        "id": "YXTMqzyvDkDM",
        "outputId": "54a11a97-995f-43f0-c9e4-d7248cd7e8ed"
      },
      "outputs": [
        {
          "name": "stdout",
          "output_type": "stream",
          "text": [
            "{\"text\":\"두통\"}\n"
          ]
        }
      ],
      "source": [
        "import json\n",
        "import requests\n",
        "\n",
        "data = open(\"./두통.m4a\", \"rb\") # STT를 진행하고자 하는 음성 파일\n",
        "\n",
        "Lang = \"Kor\" # Kor / Jpn / Chn / Eng\n",
        "URL = \"https://naveropenapi.apigw.ntruss.com/recog/v1/stt?lang=\" + Lang\n",
        "    \n",
        "ID = \"Client ID\" # 인증 정보의 Client ID\n",
        "Secret = \"Personal Key\" # 인증 정보의 Client Secret\n",
        "    \n",
        "headers = {\n",
        "    \"Content-Type\": \"application/octet-stream\", # Fix\n",
        "    \"X-NCP-APIGW-API-KEY-ID\": ID,\n",
        "    \"X-NCP-APIGW-API-KEY\": Secret,\n",
        "}\n",
        "response = requests.post(URL,  data=data, headers=headers)\n",
        "rescode = response.status_code\n",
        "\n",
        "if(rescode == 200):\n",
        "    print (response.text)\n",
        "else:\n",
        "    print(\"Error : \" + response.text)"
      ]
    },
    {
      "cell_type": "markdown",
      "metadata": {
        "id": "4mMcdusoPO77"
      },
      "source": [
        "OCR: 사진내의 텍스트 인식 "
      ]
    },
    {
      "cell_type": "code",
      "execution_count": 12,
      "metadata": {
        "id": "z05ic8gNLibk"
      },
      "outputs": [],
      "source": [
        "import json\n",
        "import base64\n",
        "import requests\n",
        "\n",
        "f = open(\"./common.jpeg\", \"rb\")\n",
        "img = base64.b64encode(f.read())\n",
        "\n",
        " # 본인의 APIGW Invoke URL로 치환\n",
        "URL = \"개인 APIGW Invoke사용\"\n",
        "    \n",
        " # 본인의 Secret Key로 치환\n",
        "KEY = \"Secret Key 사용\"\n",
        "    \n",
        "headers = {\n",
        "    \"Content-Type\": \"application/json\",\n",
        "    \"X-OCR-SECRET\": KEY\n",
        "}\n",
        "    \n",
        "data = {\n",
        "    \"version\": \"V1\",\n",
        "    \"requestId\": \"sample_id\", # 요청을 구분하기 위한 ID, 사용자가 정의\n",
        "    \"timestamp\": 0, # 현재 시간값\n",
        "    \"images\": [\n",
        "        {\n",
        "            \"name\": \"sample_image\",\n",
        "            \"format\": \"png\",\n",
        "            \"data\": img.decode('utf-8')\n",
        "          # \"templateIds\": [400]  # 설정하지 않을 경우, 자동으로 템플릿을 찾음 \n",
        "        }\n",
        "    ]\n",
        "}\n",
        "data = json.dumps(data)\n",
        "response = requests.post(URL, data=data, headers=headers)\n",
        "res = json.loads(response.text)"
      ]
    }
  ],
  "metadata": {
    "colab": {
      "name": "0_Test_module1-2.ipynb",
      "provenance": []
    },
    "kernelspec": {
      "display_name": "Python 3",
      "name": "python3"
    },
    "language_info": {
      "name": "python"
    }
  },
  "nbformat": 4,
  "nbformat_minor": 0
}
