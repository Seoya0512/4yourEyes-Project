{
  "cells": [
    {
      "cell_type": "markdown",
      "metadata": {},
      "source": [
        "### Dataset 구축하기 "
      ]
    },
    {
      "cell_type": "code",
      "execution_count": null,
      "metadata": {
        "colab": {
          "base_uri": "https://localhost:8080/",
          "height": 91,
          "resources": {
            "http://localhost:8080/nbextensions/google.colab/files.js": {
              "data": "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",
              "headers": [
                [
                  "content-type",
                  "application/javascript"
                ]
              ],
              "ok": true,
              "status": 200,
              "status_text": ""
            }
          }
        },
        "id": "vtkMgfSVMqsJ",
        "outputId": "9ef6c37b-bd9d-45e3-c96c-5788f4cff6be"
      },
      "outputs": [
        {
          "data": {
            "text/html": [
              "\n",
              "     <input type=\"file\" id=\"files-90b13e80-1b13-4162-8054-08fc397ab65f\" name=\"files[]\" multiple disabled\n",
              "        style=\"border:none\" />\n",
              "     <output id=\"result-90b13e80-1b13-4162-8054-08fc397ab65f\">\n",
              "      Upload widget is only available when the cell has been executed in the\n",
              "      current browser session. Please rerun this cell to enable.\n",
              "      </output>\n",
              "      <script src=\"/nbextensions/google.colab/files.js\"></script> "
            ],
            "text/plain": [
              "<IPython.core.display.HTML object>"
            ]
          },
          "metadata": {},
          "output_type": "display_data"
        },
        {
          "name": "stdout",
          "output_type": "stream",
          "text": [
            "Saving key.txt to key.txt\n"
          ]
        },
        {
          "data": {
            "application/vnd.google.colaboratory.intrinsic+json": {
              "type": "string"
            },
            "text/plain": [
              "'key.txt'"
            ]
          },
          "execution_count": 1,
          "metadata": {},
          "output_type": "execute_result"
        }
      ],
      "source": [
        "# 키 불러오기 \n",
        "from google.colab import files\n",
        "uploaded= files.upload()\n",
        "filename= list(uploaded.keys())[0]\n",
        "filename"
      ]
    },
    {
      "cell_type": "code",
      "execution_count": null,
      "metadata": {
        "colab": {
          "base_uri": "https://localhost:8080/"
        },
        "id": "SYNfunbsMrjw",
        "outputId": "c386a8fb-cca5-4f14-ae17-861054a12aa6"
      },
      "outputs": [
        {
          "data": {
            "text/plain": [
              "88"
            ]
          },
          "execution_count": 2,
          "metadata": {},
          "output_type": "execute_result"
        }
      ],
      "source": [
        "# api 키 확인 \n",
        "with open(filename) as f:\n",
        "  api_key = f.read()\n",
        "len(api_key)"
      ]
    },
    {
      "cell_type": "code",
      "execution_count": null,
      "metadata": {
        "id": "L2EbjxLmN1Gg"
      },
      "outputs": [],
      "source": [
        "# 필요한 라이브러리 import \n",
        "import requests\n",
        "from urllib.parse import quote\n",
        "import requests, bs4\n",
        "import pandas as pd\n",
        "from lxml import html\n",
        "from urllib.request import Request, urlopen\n",
        "from urllib.parse import urlencode, quote_plus, unquote"
      ]
    },
    {
      "cell_type": "markdown",
      "metadata": {
        "id": "CUkU3zYNOBBX"
      },
      "source": [
        "각 증상별 적합한 약품 추천 Dataset 구축(1) - 모든 데이터 추출 "
      ]
    },
    {
      "cell_type": "code",
      "execution_count": null,
      "metadata": {
        "id": "UDkb1bZROUz9"
      },
      "outputs": [],
      "source": [
        "sym  = ['두통', '염증', '상처', '과식', '구토', '복통','발열','가려움', '안구건조', '습진', '생리통',\n",
        "        '외상','어지러움', '치통', '통증', '진통', '설사', '기침','오한', '근육통', '염좌',\n",
        "        '타박상', '신경통', '요통', '어깨결림', '소염', '체함', '화상', '기침',\n",
        "        '가래', '속쓰림', '코감기', '변비', '피로', '인후통', '물집', '탈모', '비타민']"
      ]
    },
    {
      "cell_type": "code",
      "execution_count": null,
      "metadata": {
        "id": "IU20u5-qN4jY"
      },
      "outputs": [],
      "source": [
        "# 여러개 증상의 api 호출하는 함수 \n",
        "def call_sym(sym):\n",
        "  med_total = []\n",
        "  med_url = 'http://apis.data.go.kr/1471000/DrbEasyDrugInfoService/getDrbEasyDrugList'\n",
        "  My_API_Key = api_key\n",
        "  # get 방식으로 쿼리를 분리하기 위해 '?'를 넣은 것\n",
        "  for i in range(len(sym)):\n",
        "    queryParams = '?' + urlencode(                                  \n",
        "        {\n",
        "            quote_plus('ServiceKey') : My_API_Key,                    # 필수 : 서비스키 (본인의 서비스키) \n",
        "            #quote_plus('itemName') : '한미아스피린장용정100밀리그램',          \n",
        "            quote_plus('efcyQesitm') : sym[i]                          # 찾는 parameter   \n",
        "        }\n",
        "    )\n",
        "    response = requests.get(med_url + queryParams).text.encode('utf-8')\n",
        "    xmlobj = bs4.BeautifulSoup(response, 'lxml-xml')\n",
        "    med_list = xmlobj.find_all('itemName')\n",
        "\n",
        "    name_list = []\n",
        "    for n in med_list:\n",
        "      name = n.text\n",
        "      name_list.append(name)\n",
        "    \n",
        "    med_total.append(name_list)\n",
        "  return med_total"
      ]
    },
    {
      "cell_type": "code",
      "execution_count": null,
      "metadata": {
        "colab": {
          "base_uri": "https://localhost:8080/"
        },
        "id": "MZOXVJ_dO6KF",
        "outputId": "8133da0e-6300-4a62-f492-f5d4862d7529"
      },
      "outputs": [
        {
          "data": {
            "text/plain": [
              "{'가래': ['자모',\n",
              "  '코푸시럽에스',\n",
              "  '판콜에이내복액',\n",
              "  '리나치올시럽(카르보시스테인)(수출명:HyundiolSyrup)',\n",
              "  '리나치올캡슐375밀리그램(카르보시스테인)(수출명:HyundiolCapsule375Mg)',\n",
              "  '뮤코론캡슐375밀리그램(카르보시스테인)',\n",
              "  '리나치올시럽5%(카르보시스테인)(수출명:HyundiolSyrup5%)',\n",
              "  '리나치올캡슐500밀리그람(L-카르보시스테인)(수출명:HyundiolCapsule500Mg)',\n",
              "  '크린조(염화나트륨)',\n",
              "  '판콜에스내복액'],\n",
              " '가려움': ['페니라민정(클로르페니라민말레산염)',\n",
              "  '에어신신파스',\n",
              "  '쎄레스톤지크림',\n",
              "  '유락신연고(크로타미톤)',\n",
              "  '제이알히드로코르티손연고',\n",
              "  '삼아리도멕스크림(프레드니솔론발레로아세테이트)',\n",
              "  '신신물파스에스(수출명:HEATWAVE,ARTHROHONLINIMENT,PANOPAS,Y&JWATER)',\n",
              "  '삼아리도멕스로션(프레드니솔론발레로아세테이트)',\n",
              "  '청나점안액',\n",
              "  '보송크림(프레드니솔론발레로아세테이트)'],\n",
              " '과식': ['활명수',\n",
              "  '보화소합원(대환,소환)',\n",
              "  '베스타제정',\n",
              "  '베스타제당의정',\n",
              "  '건위황정',\n",
              "  '잘젠정',\n",
              "  '제스판골드정',\n",
              "  '베로타정',\n",
              "  '다이제틴정',\n",
              "  '리포유정'],\n",
              " '구토': ['활명수',\n",
              "  '아네모정',\n",
              "  '겔포스현탁액(인산알루미늄겔)',\n",
              "  '게루삼정',\n",
              "  '보화소합원(대환,소환)',\n",
              "  '보나링에이정(디멘히드리네이트)',\n",
              "  '건위황정',\n",
              "  '제스판골드정',\n",
              "  '포리부틴정(트리메부틴말레산염)',\n",
              "  '스파부틴정100밀리그램(트리메부틴말레산염)'],\n",
              " '근육통': ['에어신신파스',\n",
              "  '판콜에이내복액',\n",
              "  '아로나민골드정',\n",
              "  '뇌선',\n",
              "  '부루펜정200밀리그램(이부프로펜)',\n",
              "  '게보린정(수출명:돌로린정)',\n",
              "  '바로론정(클로닉신리시네이트)',\n",
              "  '녹십자제놀카타플라스마',\n",
              "  '부루펜정400밀리그램(이부프로펜)',\n",
              "  '녹십자제놀마일드핫트카타플라스마'],\n",
              " '기침': ['자모',\n",
              "  '페니라민정(클로르페니라민말레산염)',\n",
              "  '코푸시럽에스',\n",
              "  '지노콜시럽(구연산부타미레이트)',\n",
              "  '판콜에이내복액',\n",
              "  '마스질정(클레마스틴푸마르산염)',\n",
              "  '후루테날캡슐(소브레롤)',\n",
              "  '지엘소브레롤캡슐',\n",
              "  '소부날캡슐200mg(소브레롤)',\n",
              "  '판콜에스내복액'],\n",
              " '두통': ['판콜에이내복액',\n",
              "  '뇌선',\n",
              "  '낙센정(나프록센)',\n",
              "  '부루펜정200밀리그램(이부프로펜)',\n",
              "  '게보린정(수출명:돌로린정)',\n",
              "  '바로론정(클로닉신리시네이트)',\n",
              "  '아나프록스정(나프록센나트륨)',\n",
              "  '부루펜정400밀리그램(이부프로펜)',\n",
              "  '스코펜정400밀리그램(이부프로펜)',\n",
              "  '크로낙정(클로닉신리시네이트)'],\n",
              " '물집': ['메노바크림(아시클로버)',\n",
              "  '고려아시클로버크림(아시클로버)(수출명:바이락스크림(VIRAXCream)이노바이락스5%크림(INNOVIRAX5%Cream)',\n",
              "  '에크로바크림(아시클로버)',\n",
              "  '씨크로크림(아시클로버)',\n",
              "  '바이놀크림(아시클로버)',\n",
              "  '신일아시클로버크림(수출명:PytumeCream)',\n",
              "  '태극아시클로버크림',\n",
              "  '바코시론크림(아시클로버)',\n",
              "  '현대아시클로버크림(아시클로버)',\n",
              "  '바크로비크림(아시클로버)'],\n",
              " '발열': ['판콜에이내복액',\n",
              "  '제로미아액',\n",
              "  '뇌선',\n",
              "  '부루펜정200밀리그램(이부프로펜)',\n",
              "  '게보린정(수출명:돌로린정)',\n",
              "  '제로바액',\n",
              "  '부루펜정400밀리그램(이부프로펜)',\n",
              "  '스코펜정400밀리그램(이부프로펜)',\n",
              "  '이부펜200밀리그람정(이부프로펜)',\n",
              "  '이텍스이부프로펜정400mg(수출명:IPRO,ILJINIBUPROPENTabs.)'],\n",
              " '변비': ['성광관장약',\n",
              "  '마그밀정(수산화마그네슘)',\n",
              "  '신일비사코딜정',\n",
              "  '안티비오과립75밀리그람(락토바실루스아시도필루스)(수출명: 안티비오프로(Antibio Pro))',\n",
              "  '스파토민캡슐(디시클로민염산염)',\n",
              "  '바이오탑에스캡슐',\n",
              "  '포리부틴정(트리메부틴말레산염)',\n",
              "  '스파부틴정100밀리그램(트리메부틴말레산염)',\n",
              "  '타라부틴정(트리메부틴말레산염)(수출명:뉴트리소젠정)',\n",
              "  '베부틴정(트리메부틴말레산염)(수출명:영일트리메부틴정,TRISPASMTab)'],\n",
              " '복통': ['포리부틴정(트리메부틴말레산염)',\n",
              "  '스파부틴정100밀리그램(트리메부틴말레산염)',\n",
              "  '타라부틴정(트리메부틴말레산염)(수출명:뉴트리소젠정)',\n",
              "  '베부틴정(트리메부틴말레산염)(수출명:영일트리메부틴정,TRISPASMTab)',\n",
              "  '티메틴정(트리메부틴말레산염)(수출명:OZIMETINETab.)',\n",
              "  '신일트리메부틴말레산염정',\n",
              "  '토레스정(트리메부틴말레산염)',\n",
              "  '레큐틴정(트리메부틴말레산염)',\n",
              "  '벤즈날정(트리메부틴말레산염)',\n",
              "  '타라부틴정200밀리그램(트리메부틴말레산염)'],\n",
              " '비타민': ['삐콤정',\n",
              "  '아로나민골드정',\n",
              "  '복합우루사연질캡슐',\n",
              "  '토노겐시럽',\n",
              "  '이벤캡슐',\n",
              "  '오로페롤연질캡슐100밀리그램(토코페롤아세테이트)',\n",
              "  '비타메진캡슐50밀리그램',\n",
              "  '이노엔비타메진캡슐',\n",
              "  '제텐씨정',\n",
              "  '그랑페롤연질캡슐400아이유(비타민이프리퍼레이션)(군납명:토코페롤연질캡슐400아이유100캡슐)'],\n",
              " '상처': ['에어신신파스',\n",
              "  '성광멸균바세린거즈(백색바셀린)',\n",
              "  '미보(MEBO)연고',\n",
              "  '포타딘액(포비돈요오드)',\n",
              "  '낙센정(나프록센)',\n",
              "  '코네티비나겔(히알우론산나트륨)',\n",
              "  '코네티비나거즈(히알우론산나트륨)',\n",
              "  '게보린정(수출명:돌로린정)',\n",
              "  '포타딘연고(포비돈요오드)',\n",
              "  '바네포연고'],\n",
              " '생리통': ['뇌선',\n",
              "  '게보린정(수출명:돌로린정)',\n",
              "  '뇌신에이산',\n",
              "  '타이레놀8시간이알서방정(아세트아미노펜)(수출명:Tylenol Arthritis Tablet,Tylenol8Hours,Tylenol8hour,Tylenol ER extended release Caplet,Tylenol8 Hour Extended Release Caplet)',\n",
              "  '리도펜연질캡슐(이부프로펜)',\n",
              "  '트라몰8시간서방정650밀리그람(아세트아미노펜)',\n",
              "  '아나리바정',\n",
              "  '타스펜8시간이알서방정650밀리그람(아세트아미노펜)(수출명:도로돈이알정)',\n",
              "  '바이엘아스피린정500밀리그람',\n",
              "  '바이엘아스피린정100밀리그람'],\n",
              " '설사': ['후라베린큐시럽',\n",
              "  '로프민캡슐(로페라미드염산염)',\n",
              "  '갈타제산(베타-갈락토시다제(아스퍼길루스))',\n",
              "  '로파인캡슐(로페라미드염산염)',\n",
              "  '포리부틴정(트리메부틴말레산염)',\n",
              "  '스파부틴정100밀리그램(트리메부틴말레산염)',\n",
              "  '타라부틴정(트리메부틴말레산염)(수출명:뉴트리소젠정)',\n",
              "  '베부틴정(트리메부틴말레산염)(수출명:영일트리메부틴정,TRISPASMTab)',\n",
              "  '티메틴정(트리메부틴말레산염)(수출명:OZIMETINETab.)',\n",
              "  '에세푸릴캡슐(니푸록사지드)'],\n",
              " '소염': ['에어신신파스',\n",
              "  '녹십자제놀카타플라스마',\n",
              "  '녹십자제놀마일드핫트카타플라스마',\n",
              "  '제일핫파프(군납명:노닐산바닐아미드카타플라스마제)',\n",
              "  '제일쿨파프',\n",
              "  '바이겔크림(인도메타신)',\n",
              "  '베노플러스겔(수출명:베노포르테겔,트롬보실겔)',\n",
              "  '사니크린카타플라스마',\n",
              "  '로시덴겔(피록시캄)',\n",
              "  '케토파인겔(케토프로펜)'],\n",
              " '속쓰림': ['아네모정',\n",
              "  '겔포스현탁액(인산알루미늄겔)',\n",
              "  '게루삼정',\n",
              "  '건위황정',\n",
              "  '알마겔현탁액(알마게이트)(수출명:유만겔현탁액)',\n",
              "  '포리라제정',\n",
              "  '알마겔정(알마게이트)(수출명:유한가스트라겔정)',\n",
              "  '싸이베린정',\n",
              "  '제일알맥스현탁액(알마게이트)',\n",
              "  '알마겔에프현탁액(알마게이트)(수출명:유만겔에프현탁액)'],\n",
              " '습진': ['페니라민정(클로르페니라민말레산염)',\n",
              "  '쎄레스톤지크림',\n",
              "  '태극아즈렌에스연고(구아야줄렌)',\n",
              "  '이벤캡슐',\n",
              "  '리렌스연고(구아야줄렌)',\n",
              "  '태극아즈렌에스크림(구아야줄렌)',\n",
              "  '후시딘연고(퓨시드산나트륨)',\n",
              "  '케어번연고(구아야줄렌)',\n",
              "  '마스질정(클레마스틴푸마르산염)',\n",
              "  '번세이프크림(구아야줄렌)'],\n",
              " '신경통': ['에어신신파스',\n",
              "  '아로나민골드정',\n",
              "  '뇌선',\n",
              "  '부루펜정200밀리그램(이부프로펜)',\n",
              "  '게보린정(수출명:돌로린정)',\n",
              "  '바로론정(클로닉신리시네이트)',\n",
              "  '녹십자제놀카타플라스마',\n",
              "  '부루펜정400밀리그램(이부프로펜)',\n",
              "  '녹십자제놀마일드핫트카타플라스마',\n",
              "  '스코펜정400밀리그램(이부프로펜)'],\n",
              " '안구건조': ['리프레쉬플러스점안액0.5%(카르복시메틸셀룰로오스나트륨)(1회용)',\n",
              "  '인프레쉬플러스점안액(카르복시메틸셀룰로오스나트륨)(1회용)',\n",
              "  '리프레쉬티어즈점안액0.5%(카르복시메틸셀룰로오스나트륨)',\n",
              "  '디알클리어점안액(카르복시메틸셀룰로오스나트륨)(1회용), 디알클리어점안액(카르복시메틸셀룰로오스나트륨)',\n",
              "  '눈앤점안액0.5%(카르복시메틸셀룰로오스나트륨)(1회용), 눈앤점안액0.5%(카르복시메틸셀룰로오스나트륨)',\n",
              "  '맥스클리어점안액(카르복시메틸셀룰로오스나트륨)(1회용)',\n",
              "  '디알프레쉬점안액(카르복시메틸셀룰로오스나트륨)(1회용)',\n",
              "  '원타임프레쉬점안액(카르복시메틸셀룰로오스나트륨)(1회용)',\n",
              "  '아이톡씨엠씨점안액(카르복시메틸셀룰로오스나트륨)(1회용)',\n",
              "  '하이아이프레쉬점안액(카르복시메틸셀룰로오스나트륨)(1회용)'],\n",
              " '어깨결림': ['에어신신파스',\n",
              "  '아로나민골드정',\n",
              "  '녹십자제놀카타플라스마',\n",
              "  '녹십자제놀마일드핫트카타플라스마',\n",
              "  '제일핫파프(군납명:노닐산바닐아미드카타플라스마제)',\n",
              "  '제일쿨파프',\n",
              "  '이노엔비타메진캡슐',\n",
              "  '사니크린카타플라스마',\n",
              "  '신신물파스에스(수출명:HEATWAVE,ARTHROHONLINIMENT,PANOPAS,Y&JWATER)',\n",
              "  '신신파스에스(수출명:별첨)'],\n",
              " '어지러움': ['보나링에이정(디멘히드리네이트)',\n",
              "  '보미롱산',\n",
              "  '메카인정',\n",
              "  '이지롱내복액',\n",
              "  '파비스염산메클리진정',\n",
              "  '토스롱액',\n",
              "  '뱅드롱액',\n",
              "  '노보민시럽',\n",
              "  '디멘정',\n",
              "  '디카엠정'],\n",
              " '염좌': ['뇌선',\n",
              "  '부루펜정200밀리그램(이부프로펜)',\n",
              "  '게보린정(수출명:돌로린정)',\n",
              "  '아나프록스정(나프록센나트륨)',\n",
              "  '부루펜정400밀리그램(이부프로펜)',\n",
              "  '스코펜정400밀리그램(이부프로펜)',\n",
              "  '이부펜200밀리그람정(이부프로펜)',\n",
              "  '이텍스이부프로펜정400mg(수출명:IPRO,ILJINIBUPROPENTabs.)',\n",
              "  '어린이부루펜시럽(이부프로펜)',\n",
              "  '캐롤시럽(이부프로펜)'],\n",
              " '염증': ['쎄레스톤지크림',\n",
              "  '키모랄에스정',\n",
              "  '기모타부정(수출명:케이티정)',\n",
              "  '세가톤트로키(염화세칠피리디늄)',\n",
              "  '우루사정100밀리그램(우르소데옥시콜산)',\n",
              "  '신풍겐타마이신황산염크림',\n",
              "  '뮤코베리어액(히알루론산나트륨)',\n",
              "  '삼아탄툼액(벤지다민염산염)',\n",
              "  '헥사메딘액(클로르헥시딘글루콘산염액)',\n",
              "  '오라메디연고{수출명:오라메디파스타(ORAMEDYPASTE)}'],\n",
              " '오한': ['판콜에이내복액',\n",
              "  '뇌선',\n",
              "  '게보린정(수출명:돌로린정)',\n",
              "  '판콜에스내복액',\n",
              "  '판토-에이내복액',\n",
              "  '우노바캡슐',\n",
              "  '바스칼캡슐',\n",
              "  '판피린티정',\n",
              "  '나콜플러스시럽',\n",
              "  '콜디에스시럽'],\n",
              " '외상': ['키모랄에스정',\n",
              "  '기모타부정(수출명:케이티정)',\n",
              "  '에이티피장용정(아데노신트리포스페이트이나트륨삼수화물)',\n",
              "  '뇌선',\n",
              "  '안국니트로푸라존연고',\n",
              "  '후시딘연고(퓨시드산나트륨)',\n",
              "  '게보린정(수출명:돌로린정)',\n",
              "  '바로론정(클로닉신리시네이트)',\n",
              "  '뮤코베리어액(히알루론산나트륨)',\n",
              "  '아나프록스정(나프록센나트륨)'],\n",
              " '요통': ['아로나민골드정',\n",
              "  '뇌선',\n",
              "  '부루펜정200밀리그램(이부프로펜)',\n",
              "  '부루펜정400밀리그램(이부프로펜)',\n",
              "  '스코펜정400밀리그램(이부프로펜)',\n",
              "  '이노엔비타메진캡슐',\n",
              "  '이부펜200밀리그람정(이부프로펜)',\n",
              "  '이텍스이부프로펜정400mg(수출명:IPRO,ILJINIBUPROPENTabs.)',\n",
              "  '어린이부루펜시럽(이부프로펜)',\n",
              "  '캐롤시럽(이부프로펜)'],\n",
              " '인후통': ['뇌선',\n",
              "  '판토-에이내복액',\n",
              "  '판피린티정',\n",
              "  '나콜플러스시럽',\n",
              "  '콜디에스시럽',\n",
              "  '뇌신에이산',\n",
              "  '콜핀정(수출명:페러그립씨정)',\n",
              "  '한신노콜액',\n",
              "  '아웃콜에프캡슐',\n",
              "  '오메코정'],\n",
              " '진통': ['에어신신파스',\n",
              "  '뇌선',\n",
              "  '게보린정(수출명:돌로린정)',\n",
              "  '녹십자제놀카타플라스마',\n",
              "  '녹십자제놀마일드핫트카타플라스마',\n",
              "  '제일핫파프(군납명:노닐산바닐아미드카타플라스마제)',\n",
              "  '제일쿨파프',\n",
              "  '바이겔크림(인도메타신)',\n",
              "  '베노플러스겔(수출명:베노포르테겔,트롬보실겔)',\n",
              "  '사니크린카타플라스마'],\n",
              " '체함': ['활명수',\n",
              "  '아네모정',\n",
              "  '게루삼정',\n",
              "  '보화소합원(대환,소환)',\n",
              "  '후라베린큐시럽',\n",
              "  '건위황정',\n",
              "  '잘젠정',\n",
              "  '제스판골드정',\n",
              "  '베로타정',\n",
              "  '다이제틴정'],\n",
              " '치통': ['뇌선',\n",
              "  '부루펜정200밀리그램(이부프로펜)',\n",
              "  '게보린정(수출명:돌로린정)',\n",
              "  '바로론정(클로닉신리시네이트)',\n",
              "  '부루펜정400밀리그램(이부프로펜)',\n",
              "  '스코펜정400밀리그램(이부프로펜)',\n",
              "  '크로낙정(클로닉신리시네이트)',\n",
              "  '이부펜200밀리그람정(이부프로펜)',\n",
              "  '이텍스이부프로펜정400mg(수출명:IPRO,ILJINIBUPROPENTabs.)',\n",
              "  '디크로닉정(클로닉신리시네이트)'],\n",
              " '코감기': ['페니라민정(클로르페니라민말레산염)',\n",
              "  '액티피드정',\n",
              "  '액티피드시럽',\n",
              "  '페리나정',\n",
              "  '액티페린정',\n",
              "  '마스질정(클레마스틴푸마르산염)',\n",
              "  '가네카정',\n",
              "  '엑코스정',\n",
              "  '엑티리딘정',\n",
              "  '오트리빈멘톨0.1%분무제(자일로메타졸린염산염)'],\n",
              " '타박상': ['에어신신파스',\n",
              "  '낙센정(나프록센)',\n",
              "  '녹십자제놀카타플라스마',\n",
              "  '아나프록스정(나프록센나트륨)',\n",
              "  '녹십자제놀마일드핫트카타플라스마',\n",
              "  '제일핫파프(군납명:노닐산바닐아미드카타플라스마제)',\n",
              "  '제일쿨파프',\n",
              "  '베노플러스겔(수출명:베노포르테겔,트롬보실겔)',\n",
              "  '사니크린카타플라스마',\n",
              "  '아낙스정(나프록센나트륨)'],\n",
              " '탈모': ['마이녹실액3%(미녹시딜)',\n",
              "  '마이녹실액5%(미녹시딜)',\n",
              "  '목시딜액5%(미녹시딜)',\n",
              "  '볼두민액5%(미녹시딜)',\n",
              "  '덱사톱크림(덱사메타손프로피오네이트)',\n",
              "  '판토가캅셀',\n",
              "  '모바린액3%(미녹시딜)',\n",
              "  '모바린액5%(미녹시딜)',\n",
              "  '나녹시딜액2%(미녹시딜)',\n",
              "  '나녹시딜액5%(미녹시딜)'],\n",
              " '통증': ['에어신신파스',\n",
              "  '뇌선',\n",
              "  '낙센정(나프록센)',\n",
              "  '게보린정(수출명:돌로린정)',\n",
              "  '바로론정(클로닉신리시네이트)',\n",
              "  '녹십자제놀카타플라스마',\n",
              "  '아나프록스정(나프록센나트륨)',\n",
              "  '녹십자제놀마일드핫트카타플라스마',\n",
              "  '베노론캡슐(디오스민)',\n",
              "  '제일핫파프(군납명:노닐산바닐아미드카타플라스마제)'],\n",
              " '피로': ['삐콤정',\n",
              "  '1.영진구론산바몬드액2.영진구론산바몬드스파클링액',\n",
              "  '원비디',\n",
              "  '아로나민골드정',\n",
              "  '대웅우루사연질캡슐',\n",
              "  '에이티피장용정(아데노신트리포스페이트이나트륨삼수화물)',\n",
              "  '복합우루사연질캡슐',\n",
              "  '이벤캡슐',\n",
              "  '이노엔비타메진캡슐',\n",
              "  '제텐씨정'],\n",
              " '화상': ['성광멸균바세린거즈(백색바셀린)',\n",
              "  '미보(MEBO)연고',\n",
              "  '쎄레스톤지크림',\n",
              "  '안국니트로푸라존연고',\n",
              "  '태극아즈렌에스연고(구아야줄렌)',\n",
              "  '포타딘액(포비돈요오드)',\n",
              "  '리렌스연고(구아야줄렌)',\n",
              "  '태극아즈렌에스크림(구아야줄렌)',\n",
              "  '큐앤큐바셀린윤나거즈',\n",
              "  '후시딘연고(퓨시드산나트륨)']}"
            ]
          },
          "execution_count": 9,
          "metadata": {},
          "output_type": "execute_result"
        }
      ],
      "source": [
        "# 딕셔너리 데이터셋 구축 \n",
        "dictionary = dict(zip(sym, call_sym(sym)))\n",
        "dictionary"
      ]
    },
    {
      "cell_type": "markdown",
      "metadata": {
        "id": "0Wobpg0UTva0"
      },
      "source": [
        "각 증상별 적합한 약품 추천 Dataset 구축(2) - 3개만 추출, 괄호 삭제"
      ]
    },
    {
      "cell_type": "code",
      "execution_count": null,
      "metadata": {
        "colab": {
          "base_uri": "https://localhost:8080/",
          "height": 35
        },
        "id": "WfaDoYFRQMCT",
        "outputId": "2c1a7588-c673-4b4a-ba05-d83cb928a439"
      },
      "outputs": [
        {
          "data": {
            "application/vnd.google.colaboratory.intrinsic+json": {
              "type": "string"
            },
            "text/plain": [
              "'페니라민정'"
            ]
          },
          "execution_count": 21,
          "metadata": {},
          "output_type": "execute_result"
        }
      ],
      "source": [
        "# 괄호 삭제하기 \n",
        "txt = '페니라민정(클로르페니라민말레산염)'\n",
        "txt = txt.split('(')[0]\n",
        "txt"
      ]
    },
    {
      "cell_type": "code",
      "execution_count": null,
      "metadata": {
        "id": "rMftydSsPMxD"
      },
      "outputs": [],
      "source": [
        "# 3개만 호출 \n",
        "def call_sym_short(sym):\n",
        "  med_total = []\n",
        "  med_url = 'http://apis.data.go.kr/1471000/DrbEasyDrugInfoService/getDrbEasyDrugList'\n",
        "  My_API_Key = api_key\n",
        "  # get 방식으로 쿼리를 분리하기 위해 '?'를 넣은 것\n",
        "  for i in range(len(sym)):\n",
        "    queryParams = '?' + urlencode(                                  \n",
        "        {\n",
        "            quote_plus('ServiceKey') : My_API_Key,                    # 필수 : 서비스키 (본인의 서비스키) \n",
        "            #quote_plus('itemName') : '한미아스피린장용정100밀리그램',          \n",
        "            quote_plus('efcyQesitm') : sym[i]                          # 찾는 parameter   \n",
        "        }\n",
        "    )\n",
        "    response = requests.get(med_url + queryParams).text.encode('utf-8')\n",
        "    xmlobj = bs4.BeautifulSoup(response, 'lxml-xml')\n",
        "    med_list = xmlobj.find_all('itemName')\n",
        "\n",
        "    name_list = []\n",
        "    for n in med_list[:3]:\n",
        "      raw_name = n.text\n",
        "      name = raw_name.split('(')[0]\n",
        "      name_list.append(name)\n",
        "    \n",
        "    med_total.append(name_list)\n",
        "  return med_total"
      ]
    },
    {
      "cell_type": "code",
      "execution_count": null,
      "metadata": {
        "colab": {
          "base_uri": "https://localhost:8080/"
        },
        "id": "gUrNZqHhQFly",
        "outputId": "6fdd8a4d-3ed7-4a5c-d9c5-e37449399e84"
      },
      "outputs": [
        {
          "data": {
            "text/plain": [
              "{'가래': ['자모', '코푸시럽에스', '판콜에이내복액'],\n",
              " '가려움': ['페니라민정', '에어신신파스', '쎄레스톤지크림'],\n",
              " '과식': ['활명수', '보화소합원', '베스타제정'],\n",
              " '구토': ['활명수', '아네모정', '겔포스현탁액'],\n",
              " '근육통': ['에어신신파스', '판콜에이내복액', '아로나민골드정'],\n",
              " '기침': ['자모', '페니라민정', '코푸시럽에스'],\n",
              " '두통': ['판콜에이내복액', '뇌선', '낙센정'],\n",
              " '물집': ['메노바크림', '고려아시클로버크림', '에크로바크림'],\n",
              " '발열': ['판콜에이내복액', '제로미아액', '뇌선'],\n",
              " '변비': ['성광관장약', '마그밀정', '신일비사코딜정'],\n",
              " '복통': ['포리부틴정', '스파부틴정100밀리그램', '타라부틴정'],\n",
              " '비타민': ['삐콤정', '아로나민골드정', '복합우루사연질캡슐'],\n",
              " '상처': ['에어신신파스', '성광멸균바세린거즈', '미보'],\n",
              " '생리통': ['뇌선', '게보린정', '뇌신에이산'],\n",
              " '설사': ['후라베린큐시럽', '로프민캡슐', '갈타제산'],\n",
              " '소염': ['에어신신파스', '녹십자제놀카타플라스마', '녹십자제놀마일드핫트카타플라스마'],\n",
              " '속쓰림': ['아네모정', '겔포스현탁액', '게루삼정'],\n",
              " '습진': ['페니라민정', '쎄레스톤지크림', '태극아즈렌에스연고'],\n",
              " '신경통': ['에어신신파스', '아로나민골드정', '뇌선'],\n",
              " '안구건조': ['리프레쉬플러스점안액0.5%', '인프레쉬플러스점안액', '리프레쉬티어즈점안액0.5%'],\n",
              " '어깨결림': ['에어신신파스', '아로나민골드정', '녹십자제놀카타플라스마'],\n",
              " '어지러움': ['보나링에이정', '보미롱산', '메카인정'],\n",
              " '염좌': ['뇌선', '부루펜정200밀리그램', '게보린정'],\n",
              " '염증': ['쎄레스톤지크림', '키모랄에스정', '기모타부정'],\n",
              " '오한': ['판콜에이내복액', '뇌선', '게보린정'],\n",
              " '외상': ['키모랄에스정', '기모타부정', '에이티피장용정'],\n",
              " '요통': ['아로나민골드정', '뇌선', '부루펜정200밀리그램'],\n",
              " '인후통': ['뇌선', '판토-에이내복액', '판피린티정'],\n",
              " '진통': ['에어신신파스', '뇌선', '게보린정'],\n",
              " '체함': ['활명수', '아네모정', '게루삼정'],\n",
              " '치통': ['뇌선', '부루펜정200밀리그램', '게보린정'],\n",
              " '코감기': ['페니라민정', '액티피드정', '액티피드시럽'],\n",
              " '타박상': ['에어신신파스', '낙센정', '녹십자제놀카타플라스마'],\n",
              " '탈모': ['마이녹실액3%', '마이녹실액5%', '목시딜액5%'],\n",
              " '통증': ['에어신신파스', '뇌선', '낙센정'],\n",
              " '피로': ['삐콤정', '1.영진구론산바몬드액2.영진구론산바몬드스파클링액', '원비디'],\n",
              " '화상': ['성광멸균바세린거즈', '미보', '쎄레스톤지크림']}"
            ]
          },
          "execution_count": 6,
          "metadata": {},
          "output_type": "execute_result"
        }
      ],
      "source": [
        "dict_short = dict(zip(sym, call_sym_short(sym)))\n",
        "dict_short"
      ]
    },
    {
      "cell_type": "markdown",
      "metadata": {
        "id": "LF0k-c6phfe3"
      },
      "source": [
        "* 딕셔너리를 파일로 저장"
      ]
    },
    {
      "cell_type": "code",
      "execution_count": null,
      "metadata": {
        "id": "A7CqdPRVS6Yf"
      },
      "outputs": [],
      "source": [
        "import pickle\n",
        "\n",
        "with open('dict_short.pickle', 'wb') as fw:\n",
        "  pickle.dump(dict_short, fw)"
      ]
    },
    {
      "cell_type": "code",
      "execution_count": null,
      "metadata": {
        "id": "YeOxUotgguLf"
      },
      "outputs": [],
      "source": [
        "with open('dict_short.pickle','rb') as fr:\n",
        "  user_loaded = pickle.load(fr)"
      ]
    },
    {
      "cell_type": "code",
      "execution_count": null,
      "metadata": {
        "colab": {
          "base_uri": "https://localhost:8080/"
        },
        "id": "hv9BtUDbhSZ_",
        "outputId": "58416667-39b5-4547-9da9-1af6036a24b9"
      },
      "outputs": [
        {
          "data": {
            "text/plain": [
              "{'가래': ['자모', '코푸시럽에스', '판콜에이내복액'],\n",
              " '가려움': ['페니라민정', '에어신신파스', '쎄레스톤지크림'],\n",
              " '과식': ['활명수', '보화소합원', '베스타제정'],\n",
              " '구토': ['활명수', '아네모정', '겔포스현탁액'],\n",
              " '근육통': ['에어신신파스', '판콜에이내복액', '아로나민골드정'],\n",
              " '기침': ['자모', '페니라민정', '코푸시럽에스'],\n",
              " '두통': ['판콜에이내복액', '뇌선', '낙센정'],\n",
              " '물집': ['메노바크림', '고려아시클로버크림', '에크로바크림'],\n",
              " '발열': ['판콜에이내복액', '제로미아액', '뇌선'],\n",
              " '변비': ['성광관장약', '마그밀정', '신일비사코딜정'],\n",
              " '복통': ['포리부틴정', '스파부틴정100밀리그램', '타라부틴정'],\n",
              " '비타민': ['삐콤정', '아로나민골드정', '복합우루사연질캡슐'],\n",
              " '상처': ['에어신신파스', '성광멸균바세린거즈', '미보'],\n",
              " '생리통': ['뇌선', '게보린정', '뇌신에이산'],\n",
              " '설사': ['후라베린큐시럽', '로프민캡슐', '갈타제산'],\n",
              " '소염': ['에어신신파스', '녹십자제놀카타플라스마', '녹십자제놀마일드핫트카타플라스마'],\n",
              " '속쓰림': ['아네모정', '겔포스현탁액', '게루삼정'],\n",
              " '습진': ['페니라민정', '쎄레스톤지크림', '태극아즈렌에스연고'],\n",
              " '신경통': ['에어신신파스', '아로나민골드정', '뇌선'],\n",
              " '안구건조': ['리프레쉬플러스점안액0.5%', '인프레쉬플러스점안액', '리프레쉬티어즈점안액0.5%'],\n",
              " '어깨결림': ['에어신신파스', '아로나민골드정', '녹십자제놀카타플라스마'],\n",
              " '어지러움': ['보나링에이정', '보미롱산', '메카인정'],\n",
              " '염좌': ['뇌선', '부루펜정200밀리그램', '게보린정'],\n",
              " '염증': ['쎄레스톤지크림', '키모랄에스정', '기모타부정'],\n",
              " '오한': ['판콜에이내복액', '뇌선', '게보린정'],\n",
              " '외상': ['키모랄에스정', '기모타부정', '에이티피장용정'],\n",
              " '요통': ['아로나민골드정', '뇌선', '부루펜정200밀리그램'],\n",
              " '인후통': ['뇌선', '판토-에이내복액', '판피린티정'],\n",
              " '진통': ['에어신신파스', '뇌선', '게보린정'],\n",
              " '체함': ['활명수', '아네모정', '게루삼정'],\n",
              " '치통': ['뇌선', '부루펜정200밀리그램', '게보린정'],\n",
              " '코감기': ['페니라민정', '액티피드정', '액티피드시럽'],\n",
              " '타박상': ['에어신신파스', '낙센정', '녹십자제놀카타플라스마'],\n",
              " '탈모': ['마이녹실액3%', '마이녹실액5%', '목시딜액5%'],\n",
              " '통증': ['에어신신파스', '뇌선', '낙센정'],\n",
              " '피로': ['삐콤정', '1.영진구론산바몬드액2.영진구론산바몬드스파클링액', '원비디'],\n",
              " '화상': ['성광멸균바세린거즈', '미보', '쎄레스톤지크림']}"
            ]
          },
          "execution_count": 12,
          "metadata": {},
          "output_type": "execute_result"
        }
      ],
      "source": [
        "user_loaded"
      ]
    }
  ],
  "metadata": {
    "colab": {
      "name": "02_BuildingDataSet.ipynb",
      "provenance": []
    },
    "kernelspec": {
      "display_name": "Python 3",
      "name": "python3"
    },
    "language_info": {
      "name": "python"
    }
  },
  "nbformat": 4,
  "nbformat_minor": 0
}
