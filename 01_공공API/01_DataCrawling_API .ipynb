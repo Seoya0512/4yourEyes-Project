{
  "cells": [
    {
      "cell_type": "markdown",
      "metadata": {
        "id": "TafAET5Anwds"
      },
      "source": [
        "### 공공 API 데이터 크롤링 \n",
        "참고: https://greendreamtrre.tistory.com/268"
      ]
    },
    {
      "cell_type": "code",
      "execution_count": null,
      "metadata": {
        "colab": {
          "base_uri": "https://localhost:8080/",
          "height": 91,
          "resources": {
            "http://localhost:8080/nbextensions/google.colab/files.js": {
              "data": "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",
              "headers": [
                [
                  "content-type",
                  "application/javascript"
                ]
              ],
              "ok": true,
              "status": 200,
              "status_text": ""
            }
          }
        },
        "id": "dD8x8owbaPzM",
        "outputId": "8c10dcc8-e7c5-40ad-f8e7-edc7abb6e821"
      },
      "outputs": [
        {
          "data": {
            "text/html": [
              "\n",
              "     <input type=\"file\" id=\"files-04731a8c-55a0-4763-a534-8cde729454a5\" name=\"files[]\" multiple disabled\n",
              "        style=\"border:none\" />\n",
              "     <output id=\"result-04731a8c-55a0-4763-a534-8cde729454a5\">\n",
              "      Upload widget is only available when the cell has been executed in the\n",
              "      current browser session. Please rerun this cell to enable.\n",
              "      </output>\n",
              "      <script src=\"/nbextensions/google.colab/files.js\"></script> "
            ],
            "text/plain": [
              "<IPython.core.display.HTML object>"
            ]
          },
          "metadata": {},
          "output_type": "display_data"
        },
        {
          "name": "stdout",
          "output_type": "stream",
          "text": [
            "Saving key.txt to key.txt\n"
          ]
        },
        {
          "data": {
            "application/vnd.google.colaboratory.intrinsic+json": {
              "type": "string"
            },
            "text/plain": [
              "'key.txt'"
            ]
          },
          "execution_count": 1,
          "metadata": {},
          "output_type": "execute_result"
        }
      ],
      "source": [
        "# 키 불러오기 \n",
        "from google.colab import files\n",
        "uploaded= files.upload()\n",
        "filename= list(uploaded.keys())[0]\n",
        "filename"
      ]
    },
    {
      "cell_type": "code",
      "execution_count": null,
      "metadata": {
        "colab": {
          "base_uri": "https://localhost:8080/"
        },
        "id": "FmXeKqoRaQuE",
        "outputId": "a9f8efc4-ef24-493a-fbde-8bb13367254b"
      },
      "outputs": [
        {
          "data": {
            "text/plain": [
              "88"
            ]
          },
          "execution_count": 2,
          "metadata": {},
          "output_type": "execute_result"
        }
      ],
      "source": [
        "# api 키 확인 \n",
        "with open(filename) as f:\n",
        "  api_key = f.read()\n",
        "len(api_key)"
      ]
    },
    {
      "cell_type": "code",
      "execution_count": null,
      "metadata": {
        "id": "IscVHTh1bBjJ"
      },
      "outputs": [],
      "source": [
        "import requests\n",
        "from urllib.parse import quote"
      ]
    },
    {
      "cell_type": "code",
      "execution_count": null,
      "metadata": {
        "id": "2ht2LqXlfUSm"
      },
      "outputs": [],
      "source": [
        "import requests, bs4\n",
        "import pandas as pd\n",
        "from lxml import html\n",
        "from urllib.request import Request, urlopen\n",
        "from urllib.parse import urlencode, quote_plus, unquote\n",
        "\n",
        "# URL 파라미터 분리하기.\n",
        "med_url = 'http://apis.data.go.kr/1471000/DrbEasyDrugInfoService/getDrbEasyDrugList'\n",
        "My_API_Key = api_key\n",
        "# get 방식으로 쿼리를 분리하기 위해 '?'를 넣은 것\n",
        "queryParams = '?' + urlencode(                                  \n",
        "    {\n",
        "        quote_plus('ServiceKey') : My_API_Key,                    # 필수 : 서비스키 (본인의 서비스키) \n",
        "        #quote_plus('itemName') : '한미아스피린장용정100밀리그램',          \n",
        "        quote_plus('efcyQesitm') : '감기'                          # 찾는 parameter   \n",
        "     }\n",
        ")\n",
        "\n",
        "response = requests.get(med_url + queryParams).text.encode('utf-8')\n",
        "xmlobj = bs4.BeautifulSoup(response, 'lxml-xml')"
      ]
    },
    {
      "cell_type": "code",
      "execution_count": null,
      "metadata": {
        "colab": {
          "base_uri": "https://localhost:8080/"
        },
        "id": "ZTt0by61eEKe",
        "outputId": "c49624ba-c62f-4487-dc43-4162988f1ff5"
      },
      "outputs": [
        {
          "data": {
            "text/plain": [
              "<?xml version=\"1.0\" encoding=\"utf-8\"?>\n",
              "<response>\n",
              "<header>\n",
              "<resultCode>00</resultCode>\n",
              "<resultMsg>NORMAL SERVICE.</resultMsg>\n",
              "</header>\n",
              "<body>\n",
              "<numOfRows>10</numOfRows>\n",
              "<pageNo>1</pageNo>\n",
              "<totalCount>568</totalCount>\n",
              "<items>\n",
              "<item>\n",
              "<entpName>(주)유한양행</entpName>\n",
              "<itemName>페니라민정(클로르페니라민말레산염)</itemName>\n",
              "<itemSeq>196000011</itemSeq>\n",
              "<efcyQesitm>&lt;p&gt;이 약은 고초열(꽃가루 알레르기비염(코염)), 두드러기, 가려움성 피부질환(습진, 피부염, 피부가려움증, 약물발진), 알레르기 비염(코염), 혈관운동성 코염, 코감기에 의한 재채기, 콧물, 기침, 혈관운동성 부기에 사용합니다.&lt;/p&gt;</efcyQesitm>\n",
              "<useMethodQesitm>&lt;p&gt;성인은 1회 1~3정(2~6 mg) 1일 2~4회 복용합니다.&lt;/p&gt;&lt;p&gt;1일 12정(24 mg)을 초과하지 마십시오.&lt;/p&gt;</useMethodQesitm>\n",
              "<atpnWarnQesitm/>\n",
              "<atpnQesitm>&lt;p&gt;이 약에 과민증 환자, 녹내장, 전립선비대 등 하부요로폐색(닫혀서 막힘)성 질환, 미숙아 및 신생아는 이 약을 복용하지 마십시오.&lt;/p&gt;&lt;p&gt;이 약을 복용하기 전에 3세 미만 유아, 임부 및 수유부, 고령자, 안내압(눈내부 압력)상승, 갑상샘기능항진, 협착(좁아짐)성소화성궤양 또는 유문십이지장 폐색(닫혀서 막힘), 순환계질환, 고혈압 등 심혈관계 질환, 기관지염, 기관지확장증 및 천식, 간질, 간질환, 뇌졸증, 중증(심한 증상) 관상동맥(심장동맥)부전, 발작 환자 또는 경험자는 의사 또는 약사와 상의하십시오.&lt;/p&gt;&lt;p&gt;이 약은 복용 후 졸음을 유발할 수 있으므로 운전 및 기계조작 시 주의하십시오.&lt;/p&gt;</atpnQesitm>\n",
              "<intrcQesitm>&lt;p&gt;이 약을 복용하는 동안 MAO 억제제를 복용하지 마십시오.&lt;/p&gt;&lt;p&gt;알코올, 중추신경억제제, 페니토인을 함께 복용 시 의사 또는 약사와 상의하십시오.&lt;/p&gt;</intrcQesitm>\n",
              "<seQesitm>&lt;p&gt;청색증, 호흡곤란, 흉부불쾌감, 혈압저하, 경련, 착란, 재생불량성빈혈, 무과립구증, 발진, 햇빛 노출시 피부 과민반응, 박리(벗겨짐)성 피부염, 두드러기, 연축(뒤당김/수축), 근허약, 협조불능, 진정, 졸음, 신경과민, 두통, 초조감, 복시(겹보임), 불면, 어지럼, 이명(귀울림), 전정장애(평형기능장애), 다행증(이상행복감), 정서불안, 히스테리, 진전(떨림), 신경염, 협조이상, 감각이상, 무시, 집중력감소, 권태감, 구갈(목마름), 가슴쓰림, 식욕부진, 소화불량, 구역, 구토, 복통(배아픔), 변비, 설사, 빈뇨, 배뇨(소변을 눔)곤란, 요폐(소변축적), 요저류(고임), 저혈압, 심계항진(두근거림), 빈맥(빠른맥), 부정맥, 기외수축(조기수축), 간염, 황달, 코 또는 기도의 건조, 기관분비액의 점성화, 천명(숨을 쌕쌕거림), 코막힘, 용혈성(적혈구 파괴성)빈혈, 혈소판감소, 간기능 장애, 오한(춥고 떨리는 증상), 발한(땀이 남)이상, 흉통(가슴통증), 피로감, 월경이상 등이 나타나는 경우 복용을 즉각 중지하고 의사 또는 약사와 상의하십시오.&lt;/p&gt;</seQesitm>\n",
              "<depositMethodQesitm>&lt;p&gt;실온에서 보관하십시오.&lt;/p&gt;&lt;p&gt;어린이의 손이 닿지 않는 곳에 보관하십시오.&lt;/p&gt;</depositMethodQesitm>\n",
              "<openDe>2020-12-24 00:00:00</openDe>\n",
              "<updateDe>20210129</updateDe>\n",
              "<itemImage>https://nedrug.mfds.go.kr/pbp/cmn/itemImageDownload/148609556259100153</itemImage>\n",
              "</item>\n",
              "<item>\n",
              "<entpName>동화약품(주)</entpName>\n",
              "<itemName>판콜에이내복액</itemName>\n",
              "<itemSeq>196800036</itemSeq>\n",
              "<efcyQesitm>&lt;p&gt;이 약은 감기의 여러 증상(콧물, 코막힘, 재채기, 인후(목구멍)통, 기침, 가래, 오한(춥고 떨리는 증상), 발열, 두통, 관절통, 근육통)의 완화에 사용합니다.&lt;/p&gt;</efcyQesitm>\n",
              "<useMethodQesitm>&lt;p&gt;성인 1회 1병(30 mL), 1일 3회 식후 30분에 복용합니다.&lt;/p&gt;</useMethodQesitm>\n",
              "<atpnWarnQesitm>&lt;p&gt;매일 세잔 이상 정기적 음주자가 이 약 또는 다른 해열진통제를 복용할 때는 의사 또는 약사와 상의하십시오. 간손상을 일으킬 수 있습니다.&lt;/p&gt;&lt;p&gt;매우 드물게 치명적일 수 있는 급성전신발진고름물집증, 스티븐스-존슨증후군, 독성표피괴사용해와 같은 중대한 피부반응이 보고되었고 이 약 복용 후 피부발진 또는 다른 과민반응의 징후가 나타나는 경우 즉시 복용을 중단하십시오.&lt;/p&gt;&lt;p&gt;아세트아미노펜으로 일일 최대 용량(4,000 mg)을 초과하여 복용하지 마십시오. 간손상을 일으킬 수 있습니다. 아세트아미노펜을 포함하는 다른 제품과 함께 복용하지 마십시오.&lt;/p&gt;</atpnWarnQesitm>\n",
              "<atpnQesitm>&lt;p&gt;이 약에 과민증 환자 및 경험자, 다른 해열진통제, 감기약 복용 시 천식 경험자, 만 3개월 미만의 영아, MAO억제제(항우울제, 항정신병제, 감정조절제, 항파킨슨제 등)를 복용하고 있거나 복용을 중단한 후 2주 이내의 사람은 이 약을 복용하지 마십시오.&lt;/p&gt;&lt;p&gt;이 약을 복용하기 전에 수두 또는 인플루엔자에 감염되어 있거나 또는 의심되는 영아 및 만 15세 미만의 어린이, 임부 또는 임신하고 있을 가능성이 있는 여성 및 수유부, 고령자, 몸이 약한 사람, 알레르기 체질, 알레르기 증상(발열, 발진, 관절통, 천식, 가려움증 등) 경험자, 간장질환, 신장질환, 심장질환, 갑상선질환, 당뇨병, 고혈압, 위십이지장궤양, 녹내장(눈의 통증, 눈이 침침함 등), 배뇨곤란, 고열, 속쓰림, 위부불쾌감, 위통과 같은 위장문제, 궤양, 출혈문제, 흡연, 천식, 만성 기관지염, 폐기종, 과도한 가래가 동반되는 기침, 1주 이상 지속 또는 재발되는 기침, 만성 기침, 발열·발진이나 지속적인 두통이 동반되는 기침 환자, 황색5호에 과민증 환자 또는 경험자는 의사 또는 약사와 상의하십시오.&lt;/p&gt;&lt;p&gt;정해진 용법과 용량을 잘 지키십시오.&lt;/p&gt;&lt;p&gt;복용 후 졸음이 나타날 수 있으므로 운전 및 기계조작 시 주의하십시오.&lt;/p&gt;</atpnQesitm>\n",
              "<intrcQesitm>&lt;p&gt;아세트아미노펜을 포함하는 다른 제품, MAO억제제(항우울제, 항정신병제, 감정조절제, 항파킨슨제 등), 진해거담제, 다른 감기약, 해열진통제, 진정제, 항히스타민제를 함유하는 내복약(비염용 경구제, 멀미약, 알레르기용약)과 함께 복용하지 마십시오.&lt;/p&gt;&lt;p&gt;당뇨약, 통풍약, 관절염약, 항응고제, 스테로이드제, 바르비탈계 약물, 삼환계 항우울제, 알코올과 함께 복용 시 의사 또는 약사와 상의하십시오.&lt;/p&gt;&lt;p&gt;복용 중에는 음주하지 마십시오.&lt;/p&gt;</intrcQesitm>\n",
              "<seQesitm>&lt;p&gt;발진, 발적, 가려움, 구역, 구토, 식욕부진, 변비, 부종, 배뇨곤란, 목마름(지속적이거나 심한), 어지러움, 쇽 증상(복용 후 바로 두드러기, 부종, 가슴답답함 등과 함께 안색이 창백하고, 손발이 차고, 식은땀, 숨쉬기 곤란함), 피부점막안증후군(스티븐스-존슨증후군), 독성표피괴사용해(고열을 동반하고, 발진·발적, 화상과 같이 물집이 생기는 심한 증상이 전신피부, 입 또는 눈점막에 나타남), 급성전신발진고름물집증, 천식, 전신의 나른함, 황달, 간질성폐렴(기침을 동반하고, 숨이 차고, 호흡곤란, 발열) 등이 나타나는 경우 복용을 즉각 중지하고 의사 또는 약사와 상의하십시오.&lt;/p&gt;</seQesitm>\n",
              "<depositMethodQesitm>&lt;p&gt;습기와 빛을 피해 실온에서 보관하십시오.&lt;/p&gt;&lt;p&gt;어린이의 손이 닿지 않는 곳에 보관하십시오.&lt;/p&gt;</depositMethodQesitm>\n",
              "<openDe>2021-02-25 00:00:00</openDe>\n",
              "<updateDe>20210225</updateDe>\n",
              "<itemImage/>\n",
              "</item>\n",
              "<item>\n",
              "<entpName>삼일제약(주)</entpName>\n",
              "<itemName>액티피드정</itemName>\n",
              "<itemSeq>197000053</itemSeq>\n",
              "<efcyQesitm>&lt;p&gt;이 약은 코감기, 알레르기 및 혈관운동성 코염에 의한 재채기, 콧물, 코막힘, 눈물의 완화에 사용합니다.&lt;/p&gt;</efcyQesitm>\n",
              "<useMethodQesitm>&lt;p&gt;성인은 1회 1정, 소아(12~14세)는 1회 &lt;sup&gt;1&lt;/sup&gt;/&lt;sub&gt;2&lt;/sub&gt;정을 1일 3회 매 식후에 복용합니다.&lt;/p&gt;</useMethodQesitm>\n",
              "<atpnWarnQesitm>&lt;p&gt;급성전신발진고름물집증과 같은 중증 피부 이상반응이 나타나는 경우 복용을 중단하고 의사 또는 약사와 상의하십시오.&lt;/p&gt;</atpnWarnQesitm>\n",
              "<atpnQesitm>&lt;p&gt;이 약에 과민증 환자, 중증(심한 증상)의 간 및 신기능 장애, 중증(심한 증상)의 관상심장질환, 배뇨장애, 고혈압, 관상동맥질환, 임부 또는 임신하고 있을 가능성이 있는 여성, 수유부, 2세 이하의 영아, MAO 억제제를 투여중인 환자, 파라옥시안식향산메틸에 과민증 환자는 이 약을 복용하지 마십시오.&lt;/p&gt;&lt;p&gt;이 약을 복용하기 전에 천식, 녹내장, 부정맥, 당뇨병, 갑상샘기능항진증, 12세 미만의 소아는 의사 또는 약사와 상의하십시오.&lt;/p&gt;&lt;p&gt;정해진 용법과 용량을 잘 지키십시오.&lt;/p&gt;&lt;p&gt;장기간 계속하여 복용하지 마십시오.&lt;/p&gt;&lt;p&gt;어린이에게 투여할 경우 보호자의 지도 감독하에 투여하십시오.&lt;/p&gt;&lt;p&gt;복용 후 운전 및 기계조작 시 주의하십시오.&lt;/p&gt;</atpnQesitm>\n",
              "<intrcQesitm>&lt;p&gt;혈압강하제, 알코올, 중추신경억제제(수면제, 진정제, 안정제), MAO 억제제, 교감신경흥분제, 삼환계 항우울약, 구아네티딘, 브레틸리움, 베타나이드, 데브리소퀸, 메칠도파, 교감신경성약(충혈제거제, 식욕억제제, 암페타민류의 신경자극제), α 및 β 아드레날린 저해제(억제제)와 함께 복용하지 마십시오.&lt;/p&gt;</intrcQesitm>\n",
              "<seQesitm>&lt;p&gt;급성전신발진농포증, 중증 피부이상반응(발열, 홍반, 다수의 작은 농포 등), 고열, 진정, 졸음, 중추 신경 쇠약, 중추 흥분, 불안, 발한(땀이 남), 경미한(가벼운) 혈압강하, 시력장애, 산동(동공확대), 헛소리, 환각, 흥분, 근육경련, 경직(굳음), 아테토시스, 간대상 및 강직성 경련, 고열, 호흡마비, 혼수, 순환기 마비, 피부반응, 일시적인 자극통, 작열감(화끈감), 구갈, 구역, 구토, 배뇨(소변을 눔)곤란, 흥분, 허혈성대장염 등이 나타나는 경우 복용을 즉각 중지하고 의사 또는 약사와 상의하십시오.&lt;/p&gt;</seQesitm>\n",
              "<depositMethodQesitm>&lt;p&gt;습기와 빛을 피해 실온에서 보관하십시오.&lt;/p&gt;&lt;p&gt;어린이의 손이 닿지 않는 곳에 보관하십시오.&lt;/p&gt;</depositMethodQesitm>\n",
              "<openDe>2020-12-24 00:00:00</openDe>\n",
              "<updateDe>20210129</updateDe>\n",
              "<itemImage>https://nedrug.mfds.go.kr/pbp/cmn/itemImageDownload/151369816808500002</itemImage>\n",
              "</item>\n",
              "<item>\n",
              "<entpName>삼일제약(주)</entpName>\n",
              "<itemName>액티피드시럽</itemName>\n",
              "<itemSeq>197600174</itemSeq>\n",
              "<efcyQesitm>&lt;p&gt;이 약은 코감기, 알레르기 및 혈관운동성 코염에 의한 재채기, 콧물, 코막힘, 눈물의 완화에 사용합니다.&lt;/p&gt;</efcyQesitm>\n",
              "<useMethodQesitm>&lt;p&gt;성인 및 12세 이상의 소아는 1회 10 mL를 1일 3회 매 식후에 복용합니다.&lt;/p&gt;</useMethodQesitm>\n",
              "<atpnWarnQesitm>&lt;p&gt;급성전신발진고름물집증과 같은 중증 피부 이상반응이 나타나는 경우 복용을 중단하고 의사 또는 약사와 상의하십시오.&lt;/p&gt;</atpnWarnQesitm>\n",
              "<atpnQesitm>&lt;p&gt;이 약에 과민증 환자, 중증(심한 증상)의 간 및 신기능 장애, 중증(심한 증상)의 관상심장질환, 배뇨장애, 고혈압, 관상동맥질환, 임부 또는 임신하고 있을 가능성이 있는 여성, 수유부, 2세 이하의 영아, 파라옥시안식향산메틸에 과민증 환자는 이 약을 복용하지 마십시오.&lt;/p&gt;&lt;p&gt;이 약을 복용하기 전에 천식, 녹내장, 부정맥, 당뇨병, 갑상샘기능항진증, 12세 미만의 소아는 의사 또는 약사와 상의하십시오.&lt;/p&gt;&lt;p&gt;정해진 용법과 용량을 잘 지키십시오.&lt;/p&gt;&lt;p&gt;장기간 계속하여 복용하지 마십시오.&lt;/p&gt;&lt;p&gt;어린이에게 투여할 경우 보호자의 지도 감독하에 투여하십시오.&lt;/p&gt;&lt;p&gt;복용 후 운전 및 기계조작 시 주의하십시오.&lt;/p&gt;</atpnQesitm>\n",
              "<intrcQesitm>&lt;p&gt;혈압강하제, 알코올, 중추신경억제제(수면제, 진정제, 안정제), MAO 억제제, 교감신경흥분제, 삼환계 항우울약, 구아네티딘, 브레틸리움, 베타나이드, 데브리소퀸, 메칠도파, 교감신경성약(충혈제거제, 식욕억제제, 암페타민류의 신경자극제), α 및 β 아드레날린 저해제(억제제)와 함께 복용하지 마십시오.&lt;/p&gt;&lt;p&gt;MAO 억제제 투여환자는 최소 15일 후 이 약을 투여하십시오.&lt;/p&gt;</intrcQesitm>\n",
              "<seQesitm>&lt;p&gt;급성전신발진농포증, 중증 피부이상반응(발열, 홍반, 다수의 작은 농포 등), 고열, 진정, 졸음, 중추 신경 쇠약, 중추 흥분, 불안, 발한(땀이 남), 경미한(가벼운) 혈압강하, 시력장애, 산동(동공확대), 헛소리, 환각, 흥분, 근육경련, 경직(굳음), 아테토시스, 간대상 및 강직성 경련, 고열, 호흡마비, 혼수, 순환기 마비, 피부반응, 일시적인 자극통, 작열감(화끈감), 구갈, 구역, 구토, 배뇨(소변을 눔)곤란, 흥분, 허혈성대장염 등이 나타나는 경우 복용을 즉각 중지하고 의사 또는 약사와 상의하십시오.&lt;/p&gt;</seQesitm>\n",
              "<depositMethodQesitm>&lt;p&gt;습기와 빛을 피해 실온에서 보관하십시오.&lt;/p&gt;&lt;p&gt;어린이의 손이 닿지 않는 곳에 보관하십시오.&lt;/p&gt;</depositMethodQesitm>\n",
              "<openDe>2020-12-24 00:00:00</openDe>\n",
              "<updateDe>20210129</updateDe>\n",
              "<itemImage/>\n",
              "</item>\n",
              "<item>\n",
              "<entpName>삼진제약(주)</entpName>\n",
              "<itemName>페리나정</itemName>\n",
              "<itemSeq>197600345</itemSeq>\n",
              "<efcyQesitm>&lt;p&gt;이 약은 코감기, 알레르기 및 혈관운동성 코염에 의한 재채기, 콧물, 코막힘, 눈물의 완화에 사용합니다.&lt;/p&gt;</efcyQesitm>\n",
              "<useMethodQesitm>&lt;p&gt;성인은 1회 1정 1일 3회 매 식후에 복용합니다.&lt;/p&gt;</useMethodQesitm>\n",
              "<atpnWarnQesitm>&lt;p&gt;급성전신발진고름물집증과 같은 중증 피부 이상반응이 나타나는 경우 복용을 중단하고 의사 또는 약사와 상의하십시오.&lt;/p&gt;</atpnWarnQesitm>\n",
              "<atpnQesitm>&lt;p&gt;이 약에 과민증 환자, 갈락토오스 불내성, Lapp 유당분해효소 결핍증 또는 포도당-갈락토오스 흡수장애 등의 유전적인 문제가 있는 환자는 이 약을 복용하지 마십시오.&lt;/p&gt;&lt;p&gt;이 약을 복용하기 전에 임부 또는 임신하고 있을 가능성이 있는 여성 및 수유부, 7세 이하의 소아, 천식, 녹내장, 고혈압, 심질환, 관상동맥(심장동맥)질환, 당뇨병, 갑상선기능항진증, 전립선(전립샘) 비대로 인한 배뇨(소변을 눔)장애 환자는 의사 또는 약사와 상의하십시오.&lt;/p&gt;&lt;p&gt;복용 후 졸음이 나타날 수 있으므로 운전 및 기계조작 시 주의하십시오.&lt;/p&gt;</atpnQesitm>\n",
              "<intrcQesitm>&lt;p&gt;혈압강하제, 알코올, 중추신경억제제(수면제, 진정제, 안정제), MAO 저해제(억제제) 등의 항우울제와 함께 복용하지 마십시오.&lt;/p&gt;&lt;p&gt;이 약을 복용 중에는 알코올성 음료를 피하십시오.&lt;/p&gt;</intrcQesitm>\n",
              "<seQesitm>&lt;p&gt;급성전신발진고름물집증, 발열, 홍반, 다수의 작은 농포, 허혈성 대장염(급격한 복통, 직장 출혈 등)이 나타나는 경우 복용을 즉각 중지하고 의사 또는 약사와 상의하십시오.&lt;/p&gt;&lt;p&gt;졸음, 일과성(한번 나타나고 없어지는) 자극통, 구갈(목마름), 구역, 불안, 발한(땀이 남) 및 약간의 혈압강하, 흥분(특히 소아) 등이 나타날 수 있습니다.&lt;/p&gt;</seQesitm>\n",
              "<depositMethodQesitm>&lt;p&gt;습기와 빛을 피해 실온에서 보관하십시오.&lt;/p&gt;&lt;p&gt;어린이의 손이 닿지 않는 곳에 보관하십시오.&lt;/p&gt;</depositMethodQesitm>\n",
              "<openDe>2021-01-29 00:00:00</openDe>\n",
              "<updateDe>20210129</updateDe>\n",
              "<itemImage>https://nedrug.mfds.go.kr/pbp/cmn/itemImageDownload/147765846933000092</itemImage>\n",
              "</item>\n",
              "<item>\n",
              "<entpName>현대약품(주)</entpName>\n",
              "<itemName>갈타제산(베타-갈락토시다제(아스퍼길루스))</itemName>\n",
              "<itemSeq>197600614</itemSeq>\n",
              "<efcyQesitm>&lt;p&gt;이 약은 1차성 유당불내증과 2차성 유당불내증(단일증후성 설사, 급성소화불량증, 감기성설사, 백색변성 설사, 만성설사, 미숙아·신생아의 설사, 경관영양식, 경구유동식등의 섭취시 유당불내에 의한 설사)에 의한 소화불량의 개선에 사용합니다.&lt;/p&gt;</efcyQesitm>\n",
              "<useMethodQesitm>&lt;p&gt;유아의 유당불내에 의한 소화불량에는 베타갈락토시다제로서 1회 1,250~2,500 ONPG 단위를 수유시 함께 복용합니다.&lt;/p&gt;&lt;p&gt;모유영양의 경우에는 소량의 물에 녹여 수유도중에 복용하고, 인공영양의 경우에는 분유에 타서 복용합니다.&lt;/p&gt;&lt;p&gt;이 때 조유온도는 50℃를 넘지 않도록 주의합니다.&lt;/p&gt;&lt;p&gt;경관영양식, 경구유동식 등의 섭취시 유당불내에 의한 설사에는 섭취유당량 10 g에 대하여 5,000 ONPG단위를 식사와 함께 복용합니다.&lt;/p&gt;&lt;p&gt;연령과 증상에 따라 적절히 증감할 수 있습니다.&lt;/p&gt;</useMethodQesitm>\n",
              "<atpnWarnQesitm/>\n",
              "<atpnQesitm>&lt;p&gt;두드러기, 기관지 천식, 다른 약물에 대한 과민증, 음식물 알레르기 등이 나타나는 환자는 의사 또는 약사와 상의하십시오.&lt;/p&gt;&lt;p&gt;변 상태의 개선, 배변 횟수의 감소가 나타나지 않을 경우에는 복용을 중지하고 의사 또는 약사와 상의하십시오.&lt;/p&gt;</atpnQesitm>\n",
              "<intrcQesitm/>\n",
              "<seQesitm>&lt;p&gt;쇽 증상(사지냉감, 안면창백, 청색증, 설사, 복부팽만, 구토 등)이 나타나는 경우 복용을 즉각 중지하고 의사 또는 약사와 상의하십시오.&lt;/p&gt;&lt;p&gt;드물게 발진과 변비, 복부팽만, 구토 등이 나타날 수 있습니다.&lt;/p&gt;</seQesitm>\n",
              "<depositMethodQesitm>&lt;p&gt;습기를 피해 서늘한 곳에 보관하십시오.&lt;/p&gt;</depositMethodQesitm>\n",
              "<openDe>2021-01-29 00:00:00</openDe>\n",
              "<updateDe>20210129</updateDe>\n",
              "<itemImage/>\n",
              "</item>\n",
              "<item>\n",
              "<entpName>삼일제약(주)</entpName>\n",
              "<itemName>부루펜정200밀리그램(이부프로펜)</itemName>\n",
              "<itemSeq>197700120</itemSeq>\n",
              "<efcyQesitm>&lt;p&gt;이 약은 류마티양 관절염, 연소성 류마티양 관절염, 골관절염(퇴행성 관절질환), 감기로 인한 발열 및 동통, 요통, 월경곤란증, 수술후 동통과 강직성 척추염, 두통, 치통, 근육통, 신경통, 급성통풍, 건선성 관절염, 연조직손상(염좌, 좌상), 비관절 류마티스질환(건염, 건초염, 활액낭염)에 사용합니다.&lt;/p&gt;</efcyQesitm>\n",
              "<useMethodQesitm>&lt;p&gt;성인은 류마티양 관절염, 골관절염, 강직성 척추염, 연조직손상, 비관절 류마티스질환, 급성통풍, 건선성 관절염에는 1회 1~3정(200~600 mg) 1일 3~4회 1일 최고 16정(3,200 mg)까지 복용할 수 있으며, 연소성 류마티양 관절염에는 1일 체중 kg당 30~40 mg을 3~4회 분할 복용, 경증 및 중등도의 동통이나 감기에는 성인 1회 1~2정(200~400 mg) 1일 3~4회 복용합니다.&lt;/p&gt;</useMethodQesitm>\n",
              "<atpnWarnQesitm/>\n",
              "<atpnQesitm>&lt;p&gt;이 약에 과민증 환자, 위장관궤양, 위장관출혈, 심한 혈액이상, 심한 간장애, 심한 신장장애, 심한 심장기능부전, 심한 고혈압, 기관지천식, 아스피린 또는 다른 소염진통제에 의한 천식, 두드러기, 알레르기 반응 경험 환자, 심장동맥 우회로술 전후 통증발생 환자, 임신 말기 3개월 기간의 임부, 수유부, 항암요법으로 고용량 메토트렉세이트를 투여 중인 환자, 갈락토오스 불내성, Lapp 유당분해효소 결핍증 또는 포도당-갈락토오스 흡수장애 등의 유전적인 문제가 있는 환자는 이 약을 복용하지 마십시오.&lt;/p&gt;&lt;p&gt;권장용량을 초과하여 복용하지 마십시오.&lt;/p&gt;&lt;p&gt;이 약을 복용하기 전에 혈액이상, 출혈경향 환자, 간경화, 간장애, 신장장애, 심장기능부전, 심질환, 고혈압, 전신홍반루푸스, 혼합결합조직질환, 궤양성대장염, 크론병, 노인, 만 2세 미만의 소아, 임부, 수유부, 저용량 아스피린을 복용하는 사람, 수두인 경우 의사 또는 약사와 상의하십시오.&lt;/p&gt;&lt;p&gt;감기에 복용할 경우에는 원칙적으로 5일 이내로 복용하며 의사 또는 약사의 지시 없이 통증에 10일 이상(성인) 또는 5일 이상(소아) 복용하지 않고 발열에 3일 이상 복용하지 않습니다.&lt;/p&gt;</atpnQesitm>\n",
              "<intrcQesitm>&lt;p&gt;항암요법으로 고용량 메토트렉세이트를 투여중인 환자, 다른 비스테로이드성 소염진통제와 함께 이 약을 복용하지 마십시오.&lt;/p&gt;&lt;p&gt;이 약을 복용하기 전에 저용량 아스피린, ACE 저해제 복용자, 리튬, 푸로세미드 및 티아지드계 이뇨제, 저용량 메토트렉세이트, 쿠마린계 항응혈제(와파린 등), 선택적 세로토닌 재흡수억제제를 복용하는 환자는 의사 또는 약사와 상의하십시오.&lt;/p&gt;</intrcQesitm>\n",
              "<seQesitm>&lt;p&gt;쇽 증상(호흡곤란, 혈압저하 등), 헤마토크리트감소, 헤모글로빈감소, 빈혈, 재생불량성빈혈, 용혈성빈혈, 무과립구증, 과립구감소, 백혈구감소, 혈소판감소, 혈소판기능저하, 호산구증가 등의 혈액장애, 소화성궤양, 위장관궤양, 위장출혈, 천공(뚫림), 궤양성대장염, 혈변, 위염, 췌장염, 혈액구토, 크론병, 식욕부진, 구역, 구토, 복통, 소화불량, 설사, 위부불쾌감, 상복부통증, 구갈, 구내염, 복부팽만감, 구강궤양, 변비, 흑변, 피부점막안증후군(스티븐스-존슨증후군), 독성표피괴사용해, 빈도불명의 호산구증가 및 전신 증후군을 동반한 약물 발진, 혈관신경성 부종, 수포성피부염, 다형홍반, 반구진 발진, 피부 붉어짐, 물집, 발진, 급성전신발진물집증, 간염, 황달, 간기능이상, 간장애, 과민증 또는 아나필락시스 반응, 천식발작, 두드러기, 습진, 자주색반점, 시각장애, 귀먹음, 귀울림, 미각이상, 현기증, 졸음, 어지러움, 우울, 두통, 뇌혈관사고 또는 신경질, 무균성수막염 또는 수막염(심한 두통, 구역, 구토, 불면, 목이 뻣뻣함, 발열 또는 의식장애, 급성신부전, 소변감소, 혈뇨, 요단백, BUN, 혈중크레아티닌의 상승, 고칼륨혈증, 간질성 콩팥염, 콩팥염증후군, 콩팥유두괴사, 요량감소, 전신부종 및 이에 수반하는 숨가쁨, 나른함, 눈주변부기, 얼굴부기, 권태감, 발열, 코피, 부기, 말초부종 등이 나타나는 경우 즉각 복용을 중지하고 의사 또는 약사와 상의하십시오.&lt;/p&gt;</seQesitm>\n",
              "<depositMethodQesitm>&lt;p&gt;실온에서 보관하십시오.&lt;/p&gt;&lt;p&gt;어린이의 손이 닿지 않는 곳에 보관하십시오.&lt;/p&gt;</depositMethodQesitm>\n",
              "<openDe>2020-12-24 00:00:00</openDe>\n",
              "<updateDe>20211001</updateDe>\n",
              "<itemImage>https://nedrug.mfds.go.kr/pbp/cmn/itemImageDownload/1Mxwka5v45V</itemImage>\n",
              "</item>\n",
              "<item>\n",
              "<entpName>영일제약(주)</entpName>\n",
              "<itemName>액티페린정</itemName>\n",
              "<itemSeq>197700322</itemSeq>\n",
              "<efcyQesitm>&lt;p&gt;이 약은 코감기, 알레르기 및 혈관운동성 코염에 의한 재채기, 콧물, 코막힘, 눈물의 완화에 사용합니다.&lt;/p&gt;</efcyQesitm>\n",
              "<useMethodQesitm>&lt;p&gt;성인은 1회 1정, 소아(12~14세)는 1회 &lt;sup&gt;1&lt;/sup&gt;/&lt;sub&gt;2&lt;/sub&gt;정을 1일 3회 매 식후에 복용합니다.&lt;/p&gt;</useMethodQesitm>\n",
              "<atpnWarnQesitm>&lt;p&gt;급성전신발진고름물집증과 같은 중증 피부 이상반응이 나타나는 경우 복용을 중단하고 의사 또는 약사와 상의하십시오.&lt;/p&gt;</atpnWarnQesitm>\n",
              "<atpnQesitm>&lt;p&gt;이 약에 과민증 환자, 중증(심한 증상)의 간 및 신기능 장애, 중증(심한 증상)의 관상심장질환, 배뇨장애, 고혈압, 관상동맥질환, 임부 또는 임신하고 있을 가능성이 있는 여성, 수유부, 2세 이하의 영아, MAO 억제제를 투여중인 환자, 파라옥시안식향산메틸에 과민증 환자는 이 약을 복용하지 마십시오.&lt;/p&gt;&lt;p&gt;이 약을 복용하기 전에 천식, 녹내장, 부정맥, 당뇨병, 갑상샘기능항진증, 12세 미만의 소아는 의사 또는 약사와 상의하십시오.&lt;/p&gt;&lt;p&gt;정해진 용법과 용량을 잘 지키십시오.&lt;/p&gt;&lt;p&gt;장기간 계속하여 복용하지 마십시오.&lt;/p&gt;&lt;p&gt;어린이에게 투여할 경우 보호자의 지도 감독하에 투여하십시오.&lt;/p&gt;&lt;p&gt;복용 후 운전 및 기계조작 시 주의하십시오.&lt;/p&gt;</atpnQesitm>\n",
              "<intrcQesitm>&lt;p&gt;혈압강하제, 알코올, 중추신경억제제(수면제, 진정제, 안정제), MAO 억제제, 교감신경흥분제, 삼환계 항우울약, 구아네티딘, 브레틸리움, 베타나이드, 데브리소퀸, 메칠도파, 교감신경성약(충혈제거제, 식욕억제제, 암페타민류의 신경자극제), α 및 β 아드레날린 저해제(억제제)와 함께 복용하지 마십시오.&lt;/p&gt;</intrcQesitm>\n",
              "<seQesitm>&lt;p&gt;급성전신발진농포증, 중증 피부이상반응(발열, 홍반, 다수의 작은 농포 등), 고열, 진정, 졸음, 중추 신경 쇠약, 중추 흥분, 불안, 발한(땀이 남), 경미한(가벼운) 혈압강하, 시력장애, 산동(동공확대), 헛소리, 환각, 흥분, 근육경련, 경직(굳음), 아테토시스, 간대상 및 강직성 경련, 고열, 호흡마비, 혼수, 순환기 마비, 피부반응, 일시적인 자극통, 작열감(화끈감), 구갈, 구역, 구토, 배뇨(소변을 눔)곤란, 흥분, 허혈성대장염 등이 나타나는 경우 복용을 즉각 중지하고 의사 또는 약사와 상의하십시오.&lt;/p&gt;</seQesitm>\n",
              "<depositMethodQesitm>&lt;p&gt;습기와 빛을 피해 실온에서 보관하십시오.&lt;/p&gt;&lt;p&gt;어린이의 손이 닿지 않는 곳에 보관하십시오.&lt;/p&gt;</depositMethodQesitm>\n",
              "<openDe>2021-01-29 00:00:00</openDe>\n",
              "<updateDe>20210129</updateDe>\n",
              "<itemImage>https://nedrug.mfds.go.kr/pbp/cmn/itemImageDownload/1NXVKYFvlsN</itemImage>\n",
              "</item>\n",
              "<item>\n",
              "<entpName>태극제약(주)</entpName>\n",
              "<itemName>마스질정(클레마스틴푸마르산염)</itemName>\n",
              "<itemSeq>197900219</itemSeq>\n",
              "<efcyQesitm>&lt;p&gt;이 약은 알레르기성 비염, 고초열, 두드러기, 소양성 피부질환(소양증, 습진, 피부염), 맥관신경성 부종, 코감기에 의한 재채기, 콧물, 기침에 사용합니다.&lt;/p&gt;</efcyQesitm>\n",
              "<useMethodQesitm>&lt;p&gt;성인은 1회 1정(1 mg)을 1일 2회 아침, 저녁으로 복용합니다.&lt;/p&gt;&lt;p&gt;1일 2정(2 mg)을 초과하지 마십시오.&lt;/p&gt;&lt;p&gt;연령, 증상에 따라 적절히 증감합니다.&lt;/p&gt;</useMethodQesitm>\n",
              "<atpnWarnQesitm/>\n",
              "<atpnQesitm>&lt;p&gt;수유부, 미숙아 및 1세 이하의 영아, 이 약 또는 다른 항히스타민제에 과민증 환자 및 경험자, 천식 발작 등 하기도 질환, MAO저해제를 투여중인 환자, 전립선비대 등 하부요로 폐색성 질환, 녹내장 환자, 갈락토오스 불내성, Lapp 유당분해효소 결핍증 또는 포도당-갈락토오스 흡수장애 등의 유전적인 문제가 있는 환자는 이 약을 복용하지 마십시오.&lt;/p&gt;&lt;p&gt;협착성 소화성 궤양 또는 유문십이지장 폐색 환자, 고혈압 환자, 기관지 천식의 경험자, 갑상선 기능 항진 환자, 심혈관 질환, 다뇨증 환자, 간질 등의 경련성 질환 또는 경험자, 황색4호 과민증 환자, 임부 및 임신하고 있을 가능성이 있는 부인, 수유부는 의사 또는 약사와 상의하십시오.&lt;/p&gt;&lt;p&gt;이 약 복용 후 졸음이 나타날 수 있으므로 운전 및 기계조작 시 주의하십시오.&lt;/p&gt;</atpnQesitm>\n",
              "<intrcQesitm>&lt;p&gt;MAO저해제를 함께 복용하지 마십시오.&lt;/p&gt;&lt;p&gt;알코올 및 중추신경 억제제(최면제, 진정제, 신경안정제 등), 항콜린제와 함께 복용할 경우 의사 또는 약사와 상의하십시오.&lt;/p&gt;</intrcQesitm>\n",
              "<seQesitm>&lt;p&gt;일반적으로 두드러기, 발진, 약진, 아나필락시스 쇽, 광선과민증, 발한, 오한 등이 나타나는 경우 복용을 즉각 중지하고 의사 또는 약사와 상의하십시오.&lt;/p&gt;&lt;p&gt;일시적인 졸음, 저혈압, 두통, 심계항진, 심급박증, 기외수축, 진정, 졸음, 어지러움, 협조장애, 피로, 혼란, 불안, 흥분, 신경질, 진전, 자극과민성, 불면증, 도착감, 이상감각, 시야몽롱, 복시, 이명, 급성 미로염, 히스테리, 머리무거움, 권태감, 때때로 식욕부진, 구역, 구토, 구갈, 설사, 소화불량, 상복부통, 소화기 장애, 변비, 용혈성 빈혈, 혈소판 감소, 무과립구증, 빈뇨, 배뇨곤란, 요저류, 조기월경, 기관지 분비물의 농화, 천명음 또는 가슴의 압박감, 코막힘 등이 나타날 수 있습니다.&lt;/p&gt;</seQesitm>\n",
              "<depositMethodQesitm>&lt;p&gt;건냉암소에서 보관하십시오.&lt;/p&gt;</depositMethodQesitm>\n",
              "<openDe>2021-01-29 00:00:00</openDe>\n",
              "<updateDe>20210129</updateDe>\n",
              "<itemImage>https://nedrug.mfds.go.kr/pbp/cmn/itemImageDownload/151369821142900021</itemImage>\n",
              "</item>\n",
              "<item>\n",
              "<entpName>삼일제약(주)</entpName>\n",
              "<itemName>부루펜정400밀리그램(이부프로펜)</itemName>\n",
              "<itemSeq>198300343</itemSeq>\n",
              "<efcyQesitm>&lt;p&gt;이 약은 류마티양 관절염, 연소성 류마티양 관절염, 골관절염(퇴행성 관절질환), 감기로 인한 발열 및 동통, 요통, 월경곤란증, 수술후 동통과 강직성 척추염, 두통, 치통, 근육통, 신경통, 급성통풍, 건선성 관절염, 연조직손상(염좌, 좌상), 비관절 류마티스질환(건염, 건초염, 활액낭염)에 사용합니다.&lt;/p&gt;</efcyQesitm>\n",
              "<useMethodQesitm>&lt;p&gt;류마티양 관절염, 골관절염, 강직성 척추염, 연조직손상, 비관절 류마티스질환, 급성통풍, 건선성 관절염에 성인은 1회 1/2정~1.5정(200~600 mg), 1일 3~4회 복용하며 1일 최고 3200 mg까지 복용할 수 있습니다. &lt;/p&gt;&lt;p&gt;연소성 류마티양 관절염에는 1일 체중 kg당 30-40 mg을 3~4회 분할하여 복용하며, 경증 및 중등도의 동통이나 감기에는 성인 1회 &lt;sup&gt;1&lt;/sup&gt;/&lt;sub&gt;2&lt;/sub&gt;정~1정(200~400 mg), 1일 3~4회 복용합니다.&lt;/p&gt;&lt;p&gt;권장용량을 초과하여 복용하지 마십시오.&lt;/p&gt;&lt;p&gt;연령, 증상에 따라 적절히 증감하십시오.&lt;/p&gt;</useMethodQesitm>\n",
              "<atpnWarnQesitm/>\n",
              "<atpnQesitm>&lt;p&gt;이 약에 과민증 환자, 위장관궤양, 위장관 출혈 또는 경험자, 심한 혈액이상, 심한 간장애, 심한 신장장애, 심한 심장기능부전, 심한 고혈압, 기관지천식 또는 경험자, 아스피린이나 다른 비스테로이드성 소염진통제(COX-2 저해제 포함)에 천식, 두드러기, 알레르기 반응과 같은 과민 증 또는 경험자, 관상동맥(심장동맥) 우회로술 전후 통증발생 환자, 임신 말기 3개월 기간에 해당하는 임부, 항암요법으로 고용량 메토트렉세이트를 복용중인 환자, 갈락토오스 불내성, Lapp 유당분해효소 결핍증 또는 포도당-갈락토오스 흡수장애 등의 유전적인 문제가 있는 환자는 이 약을 복용하지 마십시오.&lt;/p&gt;&lt;p&gt;이 약을 복용하기 전에 혈액이상 또는 경험자, 출혈경향이 있는 환자, 간경화, 간장애 또는 경험자, 신장장애 또는 경험자, 심장기능부전 또는 심질환, 고혈압, 전신성홍반성루푸스 및 혼합 결합조직질환 환자, 궤양성대장염, 크론병, 고령자 및 소아, 임부, 수유부, 수두, 탈수 환자는 의사 또는 약사와 상의하십시오.&lt;/p&gt;&lt;p&gt;복용 후 졸음이 나타날 수 있으므로 운전 및 기계조작 시 주의하십시오.&lt;/p&gt;</atpnQesitm>\n",
              "<intrcQesitm>&lt;p&gt;다른 비스테로이드성 소염진통제, 저용량 아스피린, 고용량의 메토트렉세이트와 함께 복용하지 마십시오.&lt;/p&gt;&lt;p&gt;ACE 저해제, 리튬, 푸로세미드 및 티아지드계 이뇨제, 쿠마린계 항응혈제(와파린 등), 선택적 세로토닌 재흡수억제제와 함께 복용 시 의사 또는 약사와 상의하십시오.&lt;/p&gt;</intrcQesitm>\n",
              "<seQesitm>&lt;p&gt;심근경색증 및 뇌졸중의 위험 증가, 위장관의 출혈, 궤양 및 천공(뚫림) 등 치명적일 수 있는 중대한 위장관계 이상반응 등이 나타나는 경우 복용을 즉각 중지하고 의사 또는 약사와 상의하십시오.&lt;/p&gt;&lt;p&gt;쇽 증상(가슴쓰림, 오한, 호흡곤란, 혈압저하), 헤마토크릿 감소, 헤모글로빈 감소, 빈혈, 재생불량성빈혈, 용혈성빈혈, 무과립구증, 과립구감소, 백혈구감소, 혈소판감소, 혈소판기능저하(출혈시간 연장), 호산구증가 등의 혈액장애, 소화성궤양, 위장관궤양, 위장출혈, 천공(뚫림), 궤양성 대장염, 혈변, 위염, 췌장염, 혈액구토, 크론병, 식욕부진, 구역, 구토, 복통, 소화불량, 설사, 위부불쾌감, 상복부 통증, 구갈, 구내염, 복부팽만감, 구강궤양, 변비, 흑변, 피부점막안증후군(스티븐스-존슨증후군), 독성표피괴사융해증(리엘증후군), 광민감 반응, 호산구 증가 및 전신 증후군을 동반한 약물 발진(DRESS 증후군), 혈관신경성 부종, 수포성피부염, 다형 홍반, 반구진 발진, 피부 붉어짐, 물집, 발진, 간염, 황달, GOT, GPT, ALP의 상승 등과 같은 간기능이상, 간장애, 과민증 또는 아나필락시스 반응, 천식발작, 두드러기, 습진, 자반(자주색반점), 발진, 가려움증, 천식, 기관지수축, 호흡곤란 또는 쌕쌕거림, 시야불능부위 등 시각장애, 난청(귀먹음), 귀울림, 미각이상, 현기증, 졸음, 어지러움, 우울, 두통, 뇌혈관 사고 또는 신경질, 무균성 수막염 또는 수막염(심한 두통, 구역, 구토, 불면, 목이 뻣뻣함, 발열 또는 의식장애 등의 증상), 혈압상승, 심계항진(두근거림), 심부전, 심근경색증 또는 협심증, 급성신부전, 핍뇨(소변감소), 혈뇨, 요단백, BUN, 혈중크레아티닌의 상승, 고칼륨혈증, 간질성 콩팥염, 콩팥염증후군, 콩팥유두괴사, 요량 감소, 전신부종 및 이에 수반하는 숨가쁨, 나른함, 눈주변 부기, 얼굴부기, 권태감, 발열, 코피, 말초부종 등이 나타나는 경우 복용을 즉각 중지하고 의사 또는 약사와 상의하십시오.&lt;/p&gt;</seQesitm>\n",
              "<depositMethodQesitm>&lt;p&gt;어린이의 손이 닿지 않는 곳에 보관하십시오.&lt;/p&gt;&lt;p&gt;실온에서 보관하십시오.&lt;/p&gt;</depositMethodQesitm>\n",
              "<openDe>2021-01-29 00:00:00</openDe>\n",
              "<updateDe>20211001</updateDe>\n",
              "<itemImage>https://nedrug.mfds.go.kr/pbp/cmn/itemImageDownload/1Mxwka5v465</itemImage>\n",
              "</item>\n",
              "</items>\n",
              "</body>\n",
              "</response>"
            ]
          },
          "execution_count": 5,
          "metadata": {},
          "output_type": "execute_result"
        }
      ],
      "source": [
        "xmlobj"
      ]
    },
    {
      "cell_type": "code",
      "execution_count": null,
      "metadata": {
        "colab": {
          "base_uri": "https://localhost:8080/"
        },
        "id": "WJ3QcO0lgkHx",
        "outputId": "e5d4a3e0-17b9-4f07-ca1b-ced97d08e50a"
      },
      "outputs": [
        {
          "data": {
            "text/plain": [
              "[<itemName>판콜에이내복액</itemName>,\n",
              " <itemName>제로미아액</itemName>,\n",
              " <itemName>뇌선</itemName>,\n",
              " <itemName>부루펜정200밀리그램(이부프로펜)</itemName>,\n",
              " <itemName>게보린정(수출명:돌로린정)</itemName>,\n",
              " <itemName>제로바액</itemName>,\n",
              " <itemName>부루펜정400밀리그램(이부프로펜)</itemName>,\n",
              " <itemName>스코펜정400밀리그램(이부프로펜)</itemName>,\n",
              " <itemName>이부펜200밀리그람정(이부프로펜)</itemName>,\n",
              " <itemName>이텍스이부프로펜정400mg(수출명:IPRO,ILJINIBUPROPENTabs.)</itemName>]"
            ]
          },
          "execution_count": 39,
          "metadata": {},
          "output_type": "execute_result"
        }
      ],
      "source": [
        "cold = xmlobj.findAll('itemName')\n",
        "cold"
      ]
    },
    {
      "cell_type": "code",
      "execution_count": null,
      "metadata": {
        "colab": {
          "base_uri": "https://localhost:8080/",
          "height": 35
        },
        "id": "bihpbNdbjOcy",
        "outputId": "925d7105-9cd5-42da-9df8-01f03225d383"
      },
      "outputs": [
        {
          "data": {
            "application/vnd.google.colaboratory.intrinsic+json": {
              "type": "string"
            },
            "text/plain": [
              "'페니라민정(클로르페니라민말레산염)'"
            ]
          },
          "execution_count": 7,
          "metadata": {},
          "output_type": "execute_result"
        }
      ],
      "source": [
        "cold[0].get_text().strip()"
      ]
    },
    {
      "cell_type": "code",
      "execution_count": null,
      "metadata": {
        "id": "cOBwHkQxk5Yb"
      },
      "outputs": [],
      "source": [
        "cold_med = []\n",
        "for i in range(len(cold)):\n",
        "  med = cold[i].get_text().strip()\n",
        "  cold_med.append(med)"
      ]
    },
    {
      "cell_type": "code",
      "execution_count": null,
      "metadata": {
        "colab": {
          "base_uri": "https://localhost:8080/"
        },
        "id": "jhvh9qnJlfeY",
        "outputId": "ea14814c-2705-4fb2-a2d3-916c6ffacf74"
      },
      "outputs": [
        {
          "data": {
            "text/plain": [
              "['페니라민정(클로르페니라민말레산염)',\n",
              " '판콜에이내복액',\n",
              " '액티피드정',\n",
              " '액티피드시럽',\n",
              " '페리나정',\n",
              " '갈타제산(베타-갈락토시다제(아스퍼길루스))',\n",
              " '부루펜정200밀리그램(이부프로펜)',\n",
              " '액티페린정',\n",
              " '마스질정(클레마스틴푸마르산염)',\n",
              " '부루펜정400밀리그램(이부프로펜)']"
            ]
          },
          "execution_count": 11,
          "metadata": {},
          "output_type": "execute_result"
        }
      ],
      "source": [
        "# 감기약\n",
        "cold_med"
      ]
    },
    {
      "cell_type": "markdown",
      "metadata": {
        "id": "jFRTqbxMFJaW"
      },
      "source": [
        "### 여러개의 증상으로 api 호출"
      ]
    },
    {
      "cell_type": "code",
      "execution_count": null,
      "metadata": {
        "id": "J9EsUcLI8CSX"
      },
      "outputs": [],
      "source": [
        "sym  = ['두통', '염증', '상처', '과식', '구토', '복통','발열']"
      ]
    },
    {
      "cell_type": "code",
      "execution_count": null,
      "metadata": {
        "id": "YHY4exegnsAh"
      },
      "outputs": [],
      "source": [
        "# 여러개 증상의 api 호출하는 함수 \n",
        "def call_sym(sym):\n",
        "  med_total = []\n",
        "  med_url = 'http://apis.data.go.kr/1471000/DrbEasyDrugInfoService/getDrbEasyDrugList'\n",
        "  My_API_Key = api_key\n",
        "  # get 방식으로 쿼리를 분리하기 위해 '?'를 넣은 것\n",
        "  for i in range(len(sym)):\n",
        "    queryParams = '?' + urlencode(                                  \n",
        "        {\n",
        "            quote_plus('ServiceKey') : My_API_Key,                    # 필수 : 서비스키 (본인의 서비스키) \n",
        "            #quote_plus('itemName') : '한미아스피린장용정100밀리그램',          \n",
        "            quote_plus('efcyQesitm') : sym[i]                          # 찾는 parameter   \n",
        "        }\n",
        "    )\n",
        "    response = requests.get(med_url + queryParams).text.encode('utf-8')\n",
        "    xmlobj = bs4.BeautifulSoup(response, 'lxml-xml')\n",
        "    med_list = xmlobj.find_all('itemName')\n",
        "\n",
        "    name_list = []\n",
        "    for n in med_list:\n",
        "      name = n.text\n",
        "      name_list.append(name)\n",
        "    \n",
        "    med_total.append(name_list)\n",
        "  return med_total"
      ]
    },
    {
      "cell_type": "code",
      "execution_count": null,
      "metadata": {
        "colab": {
          "base_uri": "https://localhost:8080/"
        },
        "id": "izGi0qeS9smZ",
        "outputId": "2fbcaafe-613f-4571-a162-3b0f862def68"
      },
      "outputs": [
        {
          "data": {
            "text/plain": [
              "{'과식': ['활명수',\n",
              "  '보화소합원(대환,소환)',\n",
              "  '베스타제정',\n",
              "  '베스타제당의정',\n",
              "  '건위황정',\n",
              "  '잘젠정',\n",
              "  '제스판골드정',\n",
              "  '베로타정',\n",
              "  '다이제틴정',\n",
              "  '리포유정'],\n",
              " '구토': ['활명수',\n",
              "  '아네모정',\n",
              "  '겔포스현탁액(인산알루미늄겔)',\n",
              "  '게루삼정',\n",
              "  '보화소합원(대환,소환)',\n",
              "  '보나링에이정(디멘히드리네이트)',\n",
              "  '건위황정',\n",
              "  '제스판골드정',\n",
              "  '포리부틴정(트리메부틴말레산염)',\n",
              "  '스파부틴정100밀리그램(트리메부틴말레산염)'],\n",
              " '두통': ['판콜에이내복액',\n",
              "  '뇌선',\n",
              "  '낙센정(나프록센)',\n",
              "  '부루펜정200밀리그램(이부프로펜)',\n",
              "  '게보린정(수출명:돌로린정)',\n",
              "  '바로론정(클로닉신리시네이트)',\n",
              "  '아나프록스정(나프록센나트륨)',\n",
              "  '부루펜정400밀리그램(이부프로펜)',\n",
              "  '스코펜정400밀리그램(이부프로펜)',\n",
              "  '크로낙정(클로닉신리시네이트)'],\n",
              " '발열': ['판콜에이내복액',\n",
              "  '제로미아액',\n",
              "  '뇌선',\n",
              "  '부루펜정200밀리그램(이부프로펜)',\n",
              "  '게보린정(수출명:돌로린정)',\n",
              "  '제로바액',\n",
              "  '부루펜정400밀리그램(이부프로펜)',\n",
              "  '스코펜정400밀리그램(이부프로펜)',\n",
              "  '이부펜200밀리그람정(이부프로펜)',\n",
              "  '이텍스이부프로펜정400mg(수출명:IPRO,ILJINIBUPROPENTabs.)'],\n",
              " '복통': ['포리부틴정(트리메부틴말레산염)',\n",
              "  '스파부틴정100밀리그램(트리메부틴말레산염)',\n",
              "  '타라부틴정(트리메부틴말레산염)(수출명:뉴트리소젠정)',\n",
              "  '베부틴정(트리메부틴말레산염)(수출명:영일트리메부틴정,TRISPASMTab)',\n",
              "  '티메틴정(트리메부틴말레산염)(수출명:OZIMETINETab.)',\n",
              "  '신일트리메부틴말레산염정',\n",
              "  '토레스정(트리메부틴말레산염)',\n",
              "  '레큐틴정(트리메부틴말레산염)',\n",
              "  '벤즈날정(트리메부틴말레산염)',\n",
              "  '타라부틴정200밀리그램(트리메부틴말레산염)'],\n",
              " '상처': ['에어신신파스',\n",
              "  '성광멸균바세린거즈(백색바셀린)',\n",
              "  '미보(MEBO)연고',\n",
              "  '포타딘액(포비돈요오드)',\n",
              "  '낙센정(나프록센)',\n",
              "  '코네티비나겔(히알우론산나트륨)',\n",
              "  '코네티비나거즈(히알우론산나트륨)',\n",
              "  '게보린정(수출명:돌로린정)',\n",
              "  '포타딘연고(포비돈요오드)',\n",
              "  '바네포연고'],\n",
              " '염증': ['쎄레스톤지크림',\n",
              "  '키모랄에스정',\n",
              "  '기모타부정(수출명:케이티정)',\n",
              "  '세가톤트로키(염화세칠피리디늄)',\n",
              "  '우루사정100밀리그램(우르소데옥시콜산)',\n",
              "  '신풍겐타마이신황산염크림',\n",
              "  '뮤코베리어액(히알루론산나트륨)',\n",
              "  '삼아탄툼액(벤지다민염산염)',\n",
              "  '헥사메딘액(클로르헥시딘글루콘산염액)',\n",
              "  '오라메디연고{수출명:오라메디파스타(ORAMEDYPASTE)}']}"
            ]
          },
          "execution_count": 41,
          "metadata": {},
          "output_type": "execute_result"
        }
      ],
      "source": [
        "dictionary = dict(zip(sym, med_total))\n",
        "dictionary"
      ]
    },
    {
      "cell_type": "code",
      "execution_count": null,
      "metadata": {
        "colab": {
          "base_uri": "https://localhost:8080/"
        },
        "id": "P6KAN3DM_vKA",
        "outputId": "542d39bc-0602-42bb-d45b-7614658c1f73"
      },
      "outputs": [
        {
          "data": {
            "text/plain": [
              "['활명수',\n",
              " '보화소합원(대환,소환)',\n",
              " '베스타제정',\n",
              " '베스타제당의정',\n",
              " '건위황정',\n",
              " '잘젠정',\n",
              " '제스판골드정',\n",
              " '베로타정',\n",
              " '다이제틴정',\n",
              " '리포유정']"
            ]
          },
          "execution_count": 34,
          "metadata": {},
          "output_type": "execute_result"
        }
      ],
      "source": [
        "dictionary['과식']"
      ]
    },
    {
      "cell_type": "code",
      "execution_count": null,
      "metadata": {
        "id": "cSv2cRQoAEX_"
      },
      "outputs": [],
      "source": [
        "# 3개만 호출 \n",
        "def call_sym1(sym):\n",
        "  med_total = []\n",
        "  med_url = 'http://apis.data.go.kr/1471000/DrbEasyDrugInfoService/getDrbEasyDrugList'\n",
        "  My_API_Key = api_key\n",
        "  # get 방식으로 쿼리를 분리하기 위해 '?'를 넣은 것\n",
        "  for i in range(len(sym)):\n",
        "    queryParams = '?' + urlencode(                                  \n",
        "        {\n",
        "            quote_plus('ServiceKey') : My_API_Key,                    # 필수 : 서비스키 (본인의 서비스키) \n",
        "            #quote_plus('itemName') : '한미아스피린장용정100밀리그램',          \n",
        "            quote_plus('efcyQesitm') : sym[i]                          # 찾는 parameter   \n",
        "        }\n",
        "    )\n",
        "    response = requests.get(med_url + queryParams).text.encode('utf-8')\n",
        "    xmlobj = bs4.BeautifulSoup(response, 'lxml-xml')\n",
        "    med_list = xmlobj.find_all('itemName')\n",
        "\n",
        "    name_list = []\n",
        "    for n in med_list[:3]:\n",
        "      name = n.text\n",
        "      name_list.append(name)\n",
        "    \n",
        "    med_total.append(name_list)\n",
        "  return med_total"
      ]
    },
    {
      "cell_type": "code",
      "execution_count": null,
      "metadata": {
        "colab": {
          "base_uri": "https://localhost:8080/"
        },
        "id": "2ZzkZ1-4-sQn",
        "outputId": "a5b30d10-94e5-45ff-c332-89c9af7554b1"
      },
      "outputs": [
        {
          "data": {
            "text/plain": [
              "[['판콜에이내복액', '뇌선', '낙센정(나프록센)'],\n",
              " ['쎄레스톤지크림', '키모랄에스정', '기모타부정(수출명:케이티정)'],\n",
              " ['에어신신파스', '성광멸균바세린거즈(백색바셀린)', '미보(MEBO)연고'],\n",
              " ['활명수', '보화소합원(대환,소환)', '베스타제정'],\n",
              " ['활명수', '아네모정', '겔포스현탁액(인산알루미늄겔)'],\n",
              " ['포리부틴정(트리메부틴말레산염)',\n",
              "  '스파부틴정100밀리그램(트리메부틴말레산염)',\n",
              "  '타라부틴정(트리메부틴말레산염)(수출명:뉴트리소젠정)'],\n",
              " ['판콜에이내복액', '제로미아액', '뇌선']]"
            ]
          },
          "execution_count": 46,
          "metadata": {},
          "output_type": "execute_result"
        }
      ],
      "source": [
        "call_sym1(sym)"
      ]
    }
  ],
  "metadata": {
    "colab": {
      "collapsed_sections": [],
      "name": "01_DataCrawling_API.ipynb",
      "provenance": []
    },
    "kernelspec": {
      "display_name": "Python 3",
      "name": "python3"
    },
    "language_info": {
      "name": "python"
    }
  },
  "nbformat": 4,
  "nbformat_minor": 0
}
