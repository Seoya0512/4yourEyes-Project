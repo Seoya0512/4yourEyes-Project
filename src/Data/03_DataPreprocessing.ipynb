{
  "cells": [
    {
      "cell_type": "code",
      "execution_count": 2,
      "metadata": {
        "id": "gCTBHSqw8jBz"
      },
      "outputs": [],
      "source": [
        "!pip install Konlpy > /dev/null"
      ]
    },
    {
      "cell_type": "code",
      "execution_count": 3,
      "metadata": {
        "id": "pc3wpd7k8UHE"
      },
      "outputs": [],
      "source": [
        "from konlpy.tag import Okt\n",
        "okt = Okt()"
      ]
    },
    {
      "cell_type": "code",
      "execution_count": 8,
      "metadata": {
        "id": "aMyMUMIK9k1l"
      },
      "outputs": [],
      "source": [
        "  import json\n",
        "  import requests\n",
        "  import re"
      ]
    },
    {
      "cell_type": "code",
      "execution_count": 11,
      "metadata": {
        "id": "Wvif_ncHIubH"
      },
      "outputs": [],
      "source": [
        "import pickle\n",
        "with open('item_list.pickle','rb') as fr:\n",
        "  disease_dict = pickle.load(fr)"
      ]
    },
    {
      "cell_type": "markdown",
      "metadata": {
        "id": "zfQbcEax8tPs"
      },
      "source": [
        "# 증상 출력 -1 "
      ]
    },
    {
      "cell_type": "code",
      "execution_count": 23,
      "metadata": {
        "colab": {
          "base_uri": "https://localhost:8080/"
        },
        "id": "fetKnVBzLP9Q",
        "outputId": "bf0167bd-4340-4a26-c8f9-c697f7bad27f"
      },
      "outputs": [
        {
          "name": "stdout",
          "output_type": "stream",
          "text": [
            "두통\n"
          ]
        }
      ],
      "source": [
        "file_format = disease_dict.keys()\n",
        "file_name = '두통 있어요'\n",
        " \n",
        "for format in file_format:\n",
        "    if format in file_name:\n",
        "        print(format)"
      ]
    },
    {
      "cell_type": "code",
      "execution_count": 43,
      "metadata": {
        "colab": {
          "base_uri": "https://localhost:8080/"
        },
        "id": "H0nLMvEpLXAf",
        "outputId": "c4ffee62-a21b-4568-fb9e-e6c5f5da166c"
      },
      "outputs": [
        {
          "data": {
            "text/plain": [
              "dict_keys(['가래', '가려움', '각기', '감기', '감염', '감퇴', '강직', '갱년기', '거담', '건염', '건조', '건초염', '결핍성', '경련', '호흡곤란', '골관절염퇴행성', '과식', '관절', '관절염', '관절질환', '관절통', '관절통요통', '구내염', '구루병', '구순염입술염', '구역', '구토', '궤양', '균', '근육통', '급만성기관지염', '급성통풍', '기관지염', '기침', '꼬리염', '수족냉증', '동통통증', '두드러기', '두통', '류마티스', '말초혈행장애', '발열', '발육불량', '백선', '변비', '병중병후병 ', '부종', '불쾌감', '비염', '비타민', '빈혈 ', '삠', '상완골', '상처', '생성', '설사', '설염', '설염혀염', '소독', '소화불량', '속쓰림', '습진', '식욕부진', '신경통', '신트림', '십이지장', '아연', '알레르기', '야맹증', '어깨결림', '염좌', '염증', '오한', '외상', '요통', '월경', '위산과다', '위염', '위통', '육체피로', '인후통', '재채기', '저림', '점액용해', '종창', '증상콧물', '진통소염', '척추염', '체함', '치통', '코막힘', '콧물', '타박상', '퇴행성관절염골관절염', '피로', '피부염', '항염', '허리', '혀염', '혈전', '혈행', '호흡기질환 ', '화상'])"
            ]
          },
          "execution_count": 43,
          "metadata": {},
          "output_type": "execute_result"
        }
      ],
      "source": [
        "disease_dict.keys()"
      ]
    },
    {
      "cell_type": "code",
      "execution_count": 46,
      "metadata": {
        "colab": {
          "base_uri": "https://localhost:8080/"
        },
        "id": "b7t9k59lPPxw",
        "outputId": "adf85ba5-91b1-4059-ad16-c14726d86ff1"
      },
      "outputs": [
        {
          "data": {
            "text/plain": [
              "['가', '려', '움', '이', ' ', '있', '는', '거', ' ', '같', '아', '요', '.']"
            ]
          },
          "execution_count": 46,
          "metadata": {},
          "output_type": "execute_result"
        }
      ],
      "source": [
        "txt = '가려움이 있는거 같아요.'\n",
        "txt_list = list(txt)\n",
        "txt_list"
      ]
    },
    {
      "cell_type": "code",
      "execution_count": 47,
      "metadata": {
        "colab": {
          "base_uri": "https://localhost:8080/"
        },
        "id": "7w58Sb_VNWtG",
        "outputId": "c48b2404-6f4f-4ad4-bffb-54c49e8eef27"
      },
      "outputs": [
        {
          "name": "stdout",
          "output_type": "stream",
          "text": [
            "가려움\n"
          ]
        }
      ],
      "source": [
        "symptom = ''\n",
        "for i in range(len(txt_list)):\n",
        "  symptom += txt_list[i]\n",
        "  if symptom in disease_dict.keys():\n",
        "    print(symptom)\n",
        "  else:\n",
        "    continue"
      ]
    },
    {
      "cell_type": "markdown",
      "metadata": {
        "id": "ZxMLJXUvB9P7"
      },
      "source": [
        "## 딕셔너리 생성해서 자연어처리 raw"
      ]
    },
    {
      "cell_type": "code",
      "execution_count": 75,
      "metadata": {
        "id": "y3qnGyjmNhW8"
      },
      "outputs": [],
      "source": [
        "sym_dict = {'두통': ['머리가 아파요', '머리가 아픈것 같아요', '머리가 어지러워요'],\n",
        "            '발열': ['열이 나는것 같아요', '열이 나요', '열이 심해요']}"
      ]
    },
    {
      "cell_type": "code",
      "execution_count": 108,
      "metadata": {
        "colab": {
          "base_uri": "https://localhost:8080/"
        },
        "id": "TNi3KYQmb8nM",
        "outputId": "4ff6b4a8-6ba9-41dc-91ce-84ff7aa35d2c"
      },
      "outputs": [
        {
          "name": "stdout",
          "output_type": "stream",
          "text": [
            "발열\n"
          ]
        }
      ],
      "source": [
        "txt = '열이 나는것 같아요'\n",
        "for key, value in sym_dict.items():\n",
        "  for i in value:\n",
        "    if i == txt:\n",
        "      print(key)"
      ]
    },
    {
      "cell_type": "code",
      "execution_count": 122,
      "metadata": {
        "id": "TJ9rLOzKyfnm"
      },
      "outputs": [],
      "source": [
        "def call_symptom(symps):\n",
        "  sym_list = list(symps)\n",
        "  symptom = ''\n",
        "  for i in range(len(sym_list)):\n",
        "    symptom += sym_list[i]\n",
        "    if symptom in disease_dict.keys():\n",
        "      return symptom\n",
        "\n",
        "  for key, value in sym_dict.items():\n",
        "    for i in value:\n",
        "      if i == symps:\n",
        "        return key"
      ]
    },
    {
      "cell_type": "code",
      "execution_count": 123,
      "metadata": {
        "colab": {
          "base_uri": "https://localhost:8080/",
          "height": 35
        },
        "id": "A9zV5wJ1y-6u",
        "outputId": "806ff948-70f6-41ef-f463-cbedd3dde23b"
      },
      "outputs": [
        {
          "data": {
            "application/vnd.google.colaboratory.intrinsic+json": {
              "type": "string"
            },
            "text/plain": [
              "'발열'"
            ]
          },
          "execution_count": 123,
          "metadata": {},
          "output_type": "execute_result"
        }
      ],
      "source": [
        " symps = '열이 나요'\n",
        " call_symptom(symps)"
      ]
    }
  ],
  "metadata": {
    "colab": {
      "name": "08_voice_증상호출개선.ipynb",
      "provenance": []
    },
    "kernelspec": {
      "display_name": "Python 3",
      "name": "python3"
    },
    "language_info": {
      "name": "python"
    }
  },
  "nbformat": 4,
  "nbformat_minor": 0
}
