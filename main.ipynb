{
  "cells": [
    {
      "cell_type": "code",
      "execution_count": 42,
      "metadata": {
        "id": "NDohEC8gq8g6"
      },
      "outputs": [],
      "source": [
        "# 필요한 패키지 호출 \n",
        "from module import print_voice, call_picture, text_voice, recommend_itmes, call_usage\n",
        "\n",
        "# 딕셔너리 호출 \n",
        "import pickle\n",
        "with open('item_list.pickle','rb') as fr:\n",
        "  disease_dict = pickle.load(fr)"
      ]
    },
    {
      "cell_type": "markdown",
      "metadata": {},
      "source": [
        "# 프로그램 시작 🔊🎙"
      ]
    },
    {
      "cell_type": "code",
      "execution_count": 43,
      "metadata": {},
      "outputs": [
        {
          "name": "stdout",
          "output_type": "stream",
          "text": [
            "200\n"
          ]
        }
      ],
      "source": [
        "# 서비스 실행 \n",
        "# 사용자에게 증상을 물어본다 \n",
        "text_voice('의약품 점자정보 서비스 이약점을 실행하겠습니다. 어디가 아프신가요?')"
      ]
    },
    {
      "cell_type": "code",
      "execution_count": 44,
      "metadata": {
        "colab": {
          "base_uri": "https://localhost:8080/",
          "height": 35
        },
        "id": "fXNES6KRks12",
        "outputId": "0185b63b-6d97-4489-f943-463d89bd69b1"
      },
      "outputs": [
        {
          "data": {
            "text/plain": [
              "'두통'"
            ]
          },
          "execution_count": 44,
          "metadata": {},
          "output_type": "execute_result"
        }
      ],
      "source": [
        "# 증상에 대한 대답\n",
        "symptom = print_voice('머리가아파요.mp3') \n",
        "symptom"
      ]
    },
    {
      "cell_type": "code",
      "execution_count": 45,
      "metadata": {
        "colab": {
          "base_uri": "https://localhost:8080/"
        },
        "id": "l378s3FFlHaY",
        "outputId": "aa01ec7a-836b-46ac-b496-41d014e2d23b"
      },
      "outputs": [
        {
          "name": "stdout",
          "output_type": "stream",
          "text": [
            "200\n"
          ]
        }
      ],
      "source": [
        "# 사진을 찍어주세요  \n",
        "text_voice('사진을 찍어주세요')"
      ]
    },
    {
      "cell_type": "code",
      "execution_count": 46,
      "metadata": {
        "colab": {
          "base_uri": "https://localhost:8080/",
          "height": 35
        },
        "id": "C20T_Zw5legn",
        "outputId": "b3569cab-226d-42b6-8104-ca0cc0a3adde"
      },
      "outputs": [
        {
          "data": {
            "text/plain": [
              "'판콜에이내복액'"
            ]
          },
          "execution_count": 46,
          "metadata": {},
          "output_type": "execute_result"
        }
      ],
      "source": [
        "# 사진 >> text \n",
        "photo = call_picture('판콜에이.jpg')\n",
        "photo"
      ]
    },
    {
      "cell_type": "code",
      "execution_count": 47,
      "metadata": {
        "colab": {
          "base_uri": "https://localhost:8080/"
        },
        "id": "DiufqKnwGm2q",
        "outputId": "ca7e5efc-a94e-4b57-89e8-e96e03f96678"
      },
      "outputs": [
        {
          "name": "stdout",
          "output_type": "stream",
          "text": [
            "200\n"
          ]
        }
      ],
      "source": [
        "# 증상과 의약품이 일치할 경우\n",
        "if symptom in disease_dict.keys():\n",
        "  if photo in disease_dict[symptom]:\n",
        "    true = f'알맞은 약입니다. 복용법을 설명드리겠습니다. {call_usage(symptom, photo)}'\n",
        "    text_voice(true)\n",
        "# 증상과 의약품이 일치하지 않을 경우\n",
        "  else:\n",
        "    false = f'{symptom}에 맞지 않는 제품입니다. 증상과 관련된 제품은 {recommend_itmes(symptom)}입니다.'\n",
        "    text_voice(false)\n",
        "# 딕셔너리에 없는 증상을 이야기 했을 경우 \n",
        "else:\n",
        "  text_voice('지원하지 않는 서비스입니다.')"
      ]
    },
    {
      "cell_type": "code",
      "execution_count": 48,
      "metadata": {},
      "outputs": [
        {
          "name": "stdout",
          "output_type": "stream",
          "text": [
            "200\n"
          ]
        }
      ],
      "source": [
        "# 서비스 종료 알림 \n",
        "text_voice('서비스를 종료합니다. 편안한 하루 되세요.')"
      ]
    }
  ],
  "metadata": {
    "colab": {
      "collapsed_sections": [],
      "name": "04_pre-flow.ipynb",
      "provenance": []
    },
    "kernelspec": {
      "display_name": "Python 3",
      "language": "python",
      "name": "python3"
    },
    "language_info": {
      "codemirror_mode": {
        "name": "ipython",
        "version": 3
      },
      "file_extension": ".py",
      "mimetype": "text/x-python",
      "name": "python",
      "nbconvert_exporter": "python",
      "pygments_lexer": "ipython3",
      "version": "3.10.8"
    },
    "vscode": {
      "interpreter": {
        "hash": "aee8b7b246df8f9039afb4144a1f6fd8d2ca17a180786b69acc140d282b71a49"
      }
    }
  },
  "nbformat": 4,
  "nbformat_minor": 0
}
